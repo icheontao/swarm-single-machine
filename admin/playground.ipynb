{
 "metadata": {
  "language_info": {
   "codemirror_mode": {
    "name": "ipython",
    "version": 3
   },
   "file_extension": ".py",
   "mimetype": "text/x-python",
   "name": "python",
   "nbconvert_exporter": "python",
   "pygments_lexer": "ipython3",
   "version": "3.8.5"
  },
  "orig_nbformat": 2,
  "kernelspec": {
   "name": "python385jvsc74a57bd0cdbcb9c44f5b624f1a59d888bbcb4f275513d39779249f3618ee544a28238ac4",
   "display_name": "Python 3.8.5 64-bit ('base': conda)"
  }
 },
 "nbformat": 4,
 "nbformat_minor": 2,
 "cells": [
  {
   "cell_type": "code",
   "execution_count": 2,
   "metadata": {},
   "outputs": [
    {
     "output_type": "execute_result",
     "data": {
      "text/plain": [
       "'3.8.10 (default, May 19 2021, 18:05:58) \\n[GCC 7.3.0]'"
      ]
     },
     "metadata": {},
     "execution_count": 2
    }
   ],
   "source": [
    "import sys\n",
    "from fabric import Connection\n",
    "\n",
    "sys.version"
   ]
  },
  {
   "cell_type": "code",
   "execution_count": 9,
   "metadata": {},
   "outputs": [
    {
     "output_type": "stream",
     "name": "stdout",
     "text": [
      "Linux\n"
     ]
    }
   ],
   "source": [
    "result = Connection('ubuntu@128.1.135.208').run('uname -s', hide=False)"
   ]
  },
  {
   "cell_type": "code",
   "execution_count": 10,
   "metadata": {},
   "outputs": [
    {
     "output_type": "execute_result",
     "data": {
      "text/plain": [
       "'Linux\\n'"
      ]
     },
     "metadata": {},
     "execution_count": 10
    }
   ],
   "source": [
    "result.stdout"
   ]
  },
  {
   "cell_type": "code",
   "execution_count": 13,
   "metadata": {},
   "outputs": [],
   "source": [
    "hosts = [\n",
    "    \"152.32.192.130\",\n",
    "    \"36.255.220.243\",\n",
    "    \"152.32.189.174\",\n",
    "    \"23.91.98.101\",\n",
    "    \"152.32.210.117\",\n",
    "    \"23.91.97.32\",\n",
    "    \"103.14.34.147\",\n",
    "    \"128.1.135.208\",\n",
    "    \"118.193.45.223\"\n",
    "]"
   ]
  },
  {
   "cell_type": "code",
   "execution_count": 16,
   "metadata": {},
   "outputs": [
    {
     "output_type": "stream",
     "name": "stdout",
     "text": [
      "==== 00/09 : 152.32.192.130 ====\n",
      "Linux\n",
      "peers = \n",
      "==== 01/09 : 36.255.220.243 ====\n",
      "Linux\n",
      "peers = \n",
      "==== 02/09 : 152.32.189.174 ====\n",
      "Linux\n",
      "peers = \n",
      "==== 03/09 : 23.91.98.101 ====\n",
      "Linux\n",
      "peers = \n",
      "==== 04/09 : 152.32.210.117 ====\n",
      "Linux\n",
      "peers = \n",
      "==== 05/09 : 23.91.97.32 ====\n",
      "Linux\n",
      "peers = \n",
      "==== 06/09 : 103.14.34.147 ====\n",
      "Linux\n",
      "peers = \n",
      "==== 07/09 : 128.1.135.208 ====\n",
      "Linux\n",
      "peers = \n",
      "==== 08/09 : 118.193.45.223 ====\n",
      "Linux\n",
      "peers = \n"
     ]
    }
   ],
   "source": [
    "for i, host in enumerate(hosts):\n",
    "    print(f'==== {i:02}/{len(hosts):02} : {host} ====')\n",
    "    conn = Connection(f'ubuntu@{host}')\n",
    "    conn.run('uname -s')\n",
    "    result = conn.run(\"curl -s http://localhost:1635/peers | jq '.peers | length'\")\n",
    "    print(f'peers = {result.stdout}')"
   ]
  },
  {
   "cell_type": "code",
   "execution_count": null,
   "metadata": {},
   "outputs": [],
   "source": [
    "# All down\n",
    "for i, host in enumerate(hosts):\n",
    "    print(f'==== {i:02}/{len(hosts):02} : {host} ====')\n",
    "    conn = Connection(f'ubuntu@{host}')\n",
    "    conn.run('uname -s')\n",
    "    conn.run(\"cd swarm-single-machine && ./down.sh\")"
   ]
  },
  {
   "cell_type": "code",
   "execution_count": null,
   "metadata": {},
   "outputs": [],
   "source": [
    "# All up\n",
    "for i, host in enumerate(hosts):\n",
    "    print(f'==== {i:02}/{len(hosts):02} : {host} ====')\n",
    "    conn = Connection(f'ubuntu@{host}')\n",
    "    conn.run('uname -s')\n",
    "    conn.run('cd swarm-single-machine && git pull')\n",
    "    conn.run(\"cd swarm-single-machine && ./up.sh\")"
   ]
  }
 ]
}