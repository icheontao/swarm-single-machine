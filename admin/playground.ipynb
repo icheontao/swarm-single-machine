{
 "cells": [
  {
   "cell_type": "code",
   "execution_count": null,
   "metadata": {},
   "outputs": [],
   "source": [
    "import sys\n",
    "import json\n",
    "from fabric import Connection\n",
    "from invoke import Responder, UnexpectedExit\n",
    "\n",
    "sys.version"
   ]
  },
  {
   "cell_type": "code",
   "execution_count": null,
   "metadata": {},
   "outputs": [],
   "source": [
    "result = Connection('ubuntu@128.1.135.208').run('hostname', hide=False)"
   ]
  },
  {
   "cell_type": "code",
   "execution_count": null,
   "metadata": {},
   "outputs": [],
   "source": [
    "result.stdout"
   ]
  },
  {
   "cell_type": "code",
   "execution_count": null,
   "metadata": {},
   "outputs": [],
   "source": [
    "hosts = [\n",
    "    \"118.193.45.223\",\n",
    "    \"128.1.135.208\",\n",
    "    \"103.14.34.147\",\n",
    "    \"23.91.97.32\",\n",
    "    \"152.32.210.117\",\n",
    "    \"23.91.98.101\",\n",
    "    \"152.32.189.174\",\n",
    "    \"36.255.220.243\",\n",
    "    \"152.32.192.130\",\n",
    "    \"101.36.117.63\",\n",
    "    \"101.36.120.12\",\n",
    "    \"101.36.122.83\",\n",
    "    \"152.32.215.147\",\n",
    "    \"152.32.251.236\",\n",
    "    \"152.32.190.173\",\n",
    "    \"23.91.101.163\",\n",
    "    \"118.193.39.223\",\n",
    "    \"165.154.3.36\",\n",
    "    \"45.249.247.180\",\n",
    "    \"152.32.210.173\",\n",
    "    \"23.91.100.167\",\n",
    "    \"45.249.247.46\",\n",
    "    \"128.1.138.92\",\n",
    "]"
   ]
  },
  {
   "cell_type": "code",
   "execution_count": null,
   "metadata": {},
   "outputs": [],
   "source": [
    "hosts"
   ]
  },
  {
   "cell_type": "code",
   "execution_count": null,
   "metadata": {
    "scrolled": false
   },
   "outputs": [],
   "source": [
    "# Check status\n",
    "\n",
    "for i, host in enumerate(hosts):\n",
    "    print(f'==== {i:02}/{len(hosts):02} : {host} ====')\n",
    "    conn = Connection(f'ubuntu@{host}')\n",
    "    conn.run('hostname')\n",
    "    result = conn.run(\"curl -s http://localhost:1635/peers | jq '.peers | length'\", hide=True)\n",
    "    print(f'peers = {result.stdout.strip()}')"
   ]
  },
  {
   "cell_type": "code",
   "execution_count": null,
   "metadata": {
    "scrolled": true
   },
   "outputs": [],
   "source": [
    "# Check peer balances\n",
    "\n",
    "for i, host in enumerate(hosts):\n",
    "    print(f'==== {i:02}/{len(hosts):02} : {host} ====')\n",
    "    conn = Connection(f'ubuntu@{host}')\n",
    "    conn.run('hostname')\n",
    "    result = conn.run('cd swarm-single-machine && ./balances.sh')\n",
    "    print()"
   ]
  },
  {
   "cell_type": "code",
   "execution_count": null,
   "metadata": {},
   "outputs": [],
   "source": [
    "# All down\n",
    "\n",
    "for i, host in enumerate(hosts):\n",
    "    print(f'==== {i:02}/{len(hosts):02} : {host} ====')\n",
    "    conn = Connection(f'ubuntu@{host}')\n",
    "    conn.run('hostname')\n",
    "    conn.run('cd swarm-single-machine && ./down.sh')"
   ]
  },
  {
   "cell_type": "code",
   "execution_count": null,
   "metadata": {},
   "outputs": [],
   "source": [
    "# All up\n",
    "\n",
    "for i, host in enumerate(hosts):\n",
    "    print(f'==== {i:02}/{len(hosts):02} : {host} ====')\n",
    "    conn = Connection(f'ubuntu@{host}')\n",
    "    conn.run('hostname')\n",
    "    conn.run('cd swarm-single-machine && git pull')\n",
    "    conn.run(\"cd swarm-single-machine && ./up.sh\")"
   ]
  },
  {
   "cell_type": "code",
   "execution_count": null,
   "metadata": {
    "scrolled": true
   },
   "outputs": [],
   "source": [
    "# All restart\n",
    "for i, host in enumerate(hosts):\n",
    "    print(f'==== {i:02}/{len(hosts):02} : {host} ====')\n",
    "    with Connection(f'ubuntu@{host}') as conn:\n",
    "        conn.run('hostname')\n",
    "        conn.run('cd swarm-single-machine && ./restart.sh')"
   ]
  },
  {
   "cell_type": "code",
   "execution_count": null,
   "metadata": {},
   "outputs": [],
   "source": [
    "# Rename hostname\n",
    "\n",
    "sudopass = Responder(\n",
    "    pattern=r'Password:',\n",
    "    response='[please change]\\n')\n",
    "\n",
    "for i, host in enumerate(hosts):\n",
    "    print(f'==== {i:02}/{len(hosts):02} : {host} ====')\n",
    "    conn = Connection(f'ubuntu@{host}')\n",
    "    conn.run('hostname')\n",
    "    conn.run(f'hostnamectl set-hostname swarm-{i:02}', pty=True, watchers=[sudopass])\n",
    "    conn.run('hostnamectl')\n",
    "    print()"
   ]
  },
  {
   "cell_type": "code",
   "execution_count": null,
   "metadata": {},
   "outputs": [],
   "source": [
    "# Add self hostname to /etc/hosts\n",
    "# (to solve sudo error)\n",
    "\n",
    "for i, host in enumerate(hosts):\n",
    "    print(f'==== {i:02}/{len(hosts):02} : {host} ====')\n",
    "    conn = Connection(f'ubuntu@{host}')\n",
    "    conn.run('hostname')\n",
    "    conn.run('echo $(hostname -I | cut -d\\  -f1) $(hostname) | sudo tee -a /etc/hosts')\n",
    "    conn.run('cat /etc/hosts')"
   ]
  },
  {
   "cell_type": "code",
   "execution_count": null,
   "metadata": {},
   "outputs": [],
   "source": [
    "# All addresses\n",
    "\n",
    "for i, host in enumerate(hosts):\n",
    "    print(f'==== {i:02}/{len(hosts):02} : {host} ====')\n",
    "    conn = Connection(f'ubuntu@{host}')\n",
    "    conn.run('hostname')\n",
    "    conn.run('cd swarm-single-machine && ./addresses.sh')"
   ]
  },
  {
   "cell_type": "code",
   "execution_count": null,
   "metadata": {},
   "outputs": [],
   "source": [
    "# Print all eth addresses\n",
    "\n",
    "for _, host in enumerate(hosts):\n",
    "    conn = Connection(f'ubuntu@{host}')\n",
    "    result = conn.run('cd swarm-single-machine && ./addresses.sh', hide=True)\n",
    "    payload = json.loads(result.stdout.strip())\n",
    "    print(payload['ethereum'])"
   ]
  },
  {
   "cell_type": "code",
   "execution_count": null,
   "metadata": {
    "scrolled": false
   },
   "outputs": [],
   "source": [
    "# Try to init all\n",
    "\n",
    "for i, host in enumerate(hosts):\n",
    "    print(f'==== {i:02}/{len(hosts):02} : {host} ====')\n",
    "    conn = Connection(f'ubuntu@{host}')\n",
    "    conn.run('hostname')\n",
    "    try:\n",
    "        conn.run('git clone https://github.com/renning22/swarm-single-machine.git && cd swarm-single-machine && ./init.sh')\n",
    "    except UnexpectedExit:\n",
    "        print('Skip...')"
   ]
  },
  {
   "cell_type": "code",
   "execution_count": null,
   "metadata": {
    "scrolled": true
   },
   "outputs": [],
   "source": [
    "# Restart unhealthy\n",
    "\n",
    "for i, host in enumerate(hosts):\n",
    "    print(f'==== {i:02}/{len(hosts):02} : {host} ====')\n",
    "    conn = Connection(f'ubuntu@{host}')\n",
    "    conn.run('hostname')\n",
    "    result = conn.run(\"curl -s http://localhost:1635/peers | jq '.peers | length'\", hide=True)\n",
    "    print(f'peers = {result.stdout.strip()}')\n",
    "    if not result.stdout.strip():\n",
    "        print('Restarting...')\n",
    "        conn.run('cd swarm-single-machine && ./restart.sh')"
   ]
  },
  {
   "cell_type": "code",
   "execution_count": null,
   "metadata": {},
   "outputs": [],
   "source": [
    "# Add swap-endpoint to hosts table (UCloud-HK-specific)\n",
    "for i, host in enumerate(hosts):\n",
    "    print(f'==== {i:02}/{len(hosts):02} : {host} ====')\n",
    "    conn = Connection(f'ubuntu@{host}')\n",
    "    conn.run('printf \"\\n10.7.17.210 swap-endpoint-01\\n\" | sudo tee -a /etc/hosts')\n",
    "    conn.run('cat /etc/hosts')"
   ]
  },
  {
   "cell_type": "code",
   "execution_count": null,
   "metadata": {},
   "outputs": [],
   "source": [
    "import pandas as pd\n",
    "import urllib3\n",
    "\n",
    "def get(k, port=1635):\n",
    "    http = urllib3.PoolManager()\n",
    "    r = http.request('Get', f'http://localhost:{port}/{k}')\n",
    "    return json.loads(r.data)\n",
    "\n",
    "balances = pd.DataFrame(get('balances')['balances'])\n",
    "balances['balance'].max()"
   ]
  },
  {
   "cell_type": "code",
   "execution_count": null,
   "metadata": {},
   "outputs": [],
   "source": [
    "peer = '03b6a4ee224240c4777966fd4765c3b1dc079fd8086fa8850c05dae0d2dce6cf'\n",
    "get(f'chequebook/cheque/{peer}')"
   ]
  },
  {
   "cell_type": "code",
   "execution_count": null,
   "metadata": {},
   "outputs": [],
   "source": [
    "peer = '24a75108ed7659237b31c4f7066ccf2d2391087550b2e849517e04e63948ba9a'\n",
    "get(f'chequebook/cheque/{peer}')"
   ]
  },
  {
   "cell_type": "code",
   "execution_count": null,
   "metadata": {},
   "outputs": [],
   "source": [
    "peer = '24ac8ae73439aed048472dce577caa561ee54f2637d68a0313ff3441ec78c3b6'\n",
    "get(f'chequebook/cheque/{peer}')"
   ]
  }
 ],
 "metadata": {
  "kernelspec": {
   "display_name": "Python 3",
   "language": "python",
   "name": "python3"
  },
  "language_info": {
   "codemirror_mode": {
    "name": "ipython",
    "version": 3
   },
   "file_extension": ".py",
   "mimetype": "text/x-python",
   "name": "python",
   "nbconvert_exporter": "python",
   "pygments_lexer": "ipython3",
   "version": "3.8.10"
  }
 },
 "nbformat": 4,
 "nbformat_minor": 2
}
