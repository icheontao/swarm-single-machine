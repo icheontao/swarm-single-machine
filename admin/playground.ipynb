{
 "cells": [
  {
   "cell_type": "code",
   "execution_count": 1,
   "metadata": {},
   "outputs": [
    {
     "data": {
      "text/plain": [
       "'3.8.10 (default, May 19 2021, 18:05:58) \\n[GCC 7.3.0]'"
      ]
     },
     "execution_count": 1,
     "metadata": {},
     "output_type": "execute_result"
    }
   ],
   "source": [
    "import sys\n",
    "import json\n",
    "from fabric import Connection\n",
    "from invoke import Responder, UnexpectedExit\n",
    "\n",
    "sys.version"
   ]
  },
  {
   "cell_type": "code",
   "execution_count": null,
   "metadata": {},
   "outputs": [],
   "source": [
    "result = Connection('ubuntu@128.1.135.208').run('hostname', hide=False)"
   ]
  },
  {
   "cell_type": "code",
   "execution_count": null,
   "metadata": {},
   "outputs": [],
   "source": [
    "result.stdout"
   ]
  },
  {
   "cell_type": "code",
   "execution_count": 2,
   "metadata": {},
   "outputs": [],
   "source": [
    "hosts = [\n",
    "    \"118.193.45.223\",\n",
    "    \"128.1.135.208\",\n",
    "    \"103.14.34.147\",\n",
    "    \"23.91.97.32\",\n",
    "    \"152.32.210.117\",\n",
    "    \"23.91.98.101\",\n",
    "    \"152.32.189.174\",\n",
    "    \"36.255.220.243\",\n",
    "    \"152.32.192.130\",\n",
    "    \"101.36.117.63\",\n",
    "    \"101.36.120.12\",\n",
    "    \"101.36.122.83\",\n",
    "    \"152.32.215.147\",\n",
    "    \"152.32.251.236\",\n",
    "    \"152.32.190.173\",\n",
    "    \"23.91.101.163\",\n",
    "    \"118.193.39.223\",\n",
    "    \"165.154.3.36\",\n",
    "    \"45.249.247.180\"\n",
    "]"
   ]
  },
  {
   "cell_type": "code",
   "execution_count": 6,
   "metadata": {
    "scrolled": false
   },
   "outputs": [
    {
     "name": "stdout",
     "output_type": "stream",
     "text": [
      "==== 00/19 : 118.193.45.223 ====\n",
      "swarm-00\n",
      "peers = 259\n",
      "==== 01/19 : 128.1.135.208 ====\n",
      "swarm-01\n",
      "peers = 290\n",
      "==== 02/19 : 103.14.34.147 ====\n",
      "swarm-02\n",
      "peers = 276\n",
      "==== 03/19 : 23.91.97.32 ====\n",
      "swarm-03\n",
      "peers = 224\n",
      "==== 04/19 : 152.32.210.117 ====\n",
      "swarm-04\n",
      "peers = 288\n",
      "==== 05/19 : 23.91.98.101 ====\n",
      "swarm-05\n",
      "peers = 243\n",
      "==== 06/19 : 152.32.189.174 ====\n",
      "swarm-06\n",
      "peers = 272\n",
      "==== 07/19 : 36.255.220.243 ====\n",
      "swarm-07\n",
      "peers = 294\n",
      "==== 08/19 : 152.32.192.130 ====\n",
      "swarm-08\n",
      "peers = 218\n",
      "==== 09/19 : 101.36.117.63 ====\n",
      "swarm-09\n",
      "peers = 274\n",
      "==== 10/19 : 101.36.120.12 ====\n",
      "swarm-10\n",
      "peers = 309\n",
      "==== 11/19 : 101.36.122.83 ====\n",
      "swarm-11\n",
      "peers = 247\n",
      "==== 12/19 : 152.32.215.147 ====\n",
      "swarm-12\n",
      "peers = 307\n",
      "==== 13/19 : 152.32.251.236 ====\n",
      "swarm-13\n",
      "peers = 301\n",
      "==== 14/19 : 152.32.190.173 ====\n",
      "10-7-155-240\n",
      "peers = 0\n",
      "==== 15/19 : 23.91.101.163 ====\n",
      "10-7-36-8\n",
      "peers = 0\n",
      "==== 16/19 : 118.193.39.223 ====\n",
      "10-7-70-72\n",
      "peers = 0\n",
      "==== 17/19 : 165.154.3.36 ====\n",
      "10-7-166-180\n",
      "peers = 0\n",
      "==== 18/19 : 45.249.247.180 ====\n",
      "10-7-11-247\n",
      "peers = 0\n"
     ]
    }
   ],
   "source": [
    "# Check status\n",
    "\n",
    "for i, host in enumerate(hosts):\n",
    "    print(f'==== {i:02}/{len(hosts):02} : {host} ====')\n",
    "    conn = Connection(f'ubuntu@{host}')\n",
    "    conn.run('hostname')\n",
    "    result = conn.run(\"curl -s http://localhost:1635/peers | jq '.peers | length'\", hide=True)\n",
    "    print(f'peers = {result.stdout.strip()}')"
   ]
  },
  {
   "cell_type": "code",
   "execution_count": null,
   "metadata": {
    "scrolled": true
   },
   "outputs": [],
   "source": [
    "# Check peer balances\n",
    "\n",
    "for i, host in enumerate(hosts):\n",
    "    print(f'==== {i:02}/{len(hosts):02} : {host} ====')\n",
    "    conn = Connection(f'ubuntu@{host}')\n",
    "    conn.run('hostname')\n",
    "    result = conn.run('cd swarm-single-machine && ./balances.sh')\n",
    "    print()"
   ]
  },
  {
   "cell_type": "code",
   "execution_count": null,
   "metadata": {},
   "outputs": [],
   "source": [
    "# All down\n",
    "\n",
    "for i, host in enumerate(hosts):\n",
    "    print(f'==== {i:02}/{len(hosts):02} : {host} ====')\n",
    "    conn = Connection(f'ubuntu@{host}')\n",
    "    conn.run('hostname')\n",
    "    conn.run('cd swarm-single-machine && ./down.sh')"
   ]
  },
  {
   "cell_type": "code",
   "execution_count": null,
   "metadata": {},
   "outputs": [],
   "source": [
    "# All up\n",
    "\n",
    "for i, host in enumerate(hosts):\n",
    "    print(f'==== {i:02}/{len(hosts):02} : {host} ====')\n",
    "    conn = Connection(f'ubuntu@{host}')\n",
    "    conn.run('hostname')\n",
    "    conn.run('cd swarm-single-machine && git pull')\n",
    "    conn.run(\"cd swarm-single-machine && ./up.sh\")"
   ]
  },
  {
   "cell_type": "code",
   "execution_count": null,
   "metadata": {},
   "outputs": [],
   "source": [
    "# Rename hostname\n",
    "\n",
    "sudopass = Responder(\n",
    "    pattern=r'Password:',\n",
    "    response='[please change]\\n')\n",
    "\n",
    "for i, host in enumerate(hosts):\n",
    "    print(f'==== {i:02}/{len(hosts):02} : {host} ====')\n",
    "    conn = Connection(f'ubuntu@{host}')\n",
    "    conn.run('hostname')\n",
    "    conn.run(f'hostnamectl set-hostname swarm-{i:02}', pty=True, watchers=[sudopass])\n",
    "    conn.run('hostnamectl')\n",
    "    print()"
   ]
  },
  {
   "cell_type": "code",
   "execution_count": null,
   "metadata": {},
   "outputs": [],
   "source": [
    "# Add self hostname to /etc/hosts\n",
    "# (to solve sudo error)\n",
    "\n",
    "for i, host in enumerate(hosts):\n",
    "    print(f'==== {i:02}/{len(hosts):02} : {host} ====')\n",
    "    conn = Connection(f'ubuntu@{host}')\n",
    "    conn.run('hostname')\n",
    "    conn.run('echo $(hostname -I | cut -d\\  -f1) $(hostname) | sudo tee -a /etc/hosts')\n",
    "    conn.run('cat /etc/hosts')"
   ]
  },
  {
   "cell_type": "code",
   "execution_count": null,
   "metadata": {},
   "outputs": [],
   "source": [
    "# All addresses\n",
    "\n",
    "for i, host in enumerate(hosts):\n",
    "    print(f'==== {i:02}/{len(hosts):02} : {host} ====')\n",
    "    conn = Connection(f'ubuntu@{host}')\n",
    "    conn.run('hostname')\n",
    "    conn.run('cd swarm-single-machine && ./addresses.sh')"
   ]
  },
  {
   "cell_type": "code",
   "execution_count": 5,
   "metadata": {},
   "outputs": [
    {
     "name": "stdout",
     "output_type": "stream",
     "text": [
      "0x19517c4542133b455a73368122a7a61ffcb53d33\n",
      "0x84b134576e7841d3a77fddd629212273a3b2f45c\n",
      "0x0a579b5e7d221668d48642387be24d0845aed796\n",
      "0xf5afa5cde53355f8744596155668c7649a972407\n",
      "0xb03a4dabaa26ec16164aa1aaf25b1144ad500a18\n",
      "0xfe916470bb6e6d24d97259bcc53ae2e12b66a28b\n",
      "0x1ff293414b41a76dcdbcb7b4d27124aa098e9638\n",
      "0x1414ef73da8e3ca2f0306fe4b0f097cbfb57bd59\n",
      "0x764a518c034f03855b4f97d2c60fbebc940b3a3c\n",
      "0xd460d4a6364f008502d52bdc9aaea9fde645adfe\n",
      "0xb25a5af6198c0157a4cc02bba9bb60a1589069e2\n",
      "0x689e0900271bb7cdd42336a7b522036065269aa5\n",
      "0x21d6fc3e662186c42aa3b30e1b911057a8639ebe\n",
      "0xb3c39219a15d468133cb4b01347f0872f017c042\n",
      "0xd9f2b033af099fac5f3931a23b5b33c9705a780e\n",
      "0x02fca3269947cd84ae87527cc865706b6d180bb2\n",
      "0x79855c3847c93ddcb2cc8d45607662737f6b2708\n",
      "0x04490ee2ddbe105736256580e2a1c8f642e91324\n",
      "0xf832b747b07d03f660097e75bc41bd6a51e11227\n"
     ]
    }
   ],
   "source": [
    "# Print all eth addresses\n",
    "\n",
    "for _, host in enumerate(hosts):\n",
    "    conn = Connection(f'ubuntu@{host}')\n",
    "    result = conn.run('cd swarm-single-machine && ./addresses.sh', hide=True)\n",
    "    payload = json.loads(result.stdout.strip())\n",
    "    print(payload['ethereum'])"
   ]
  },
  {
   "cell_type": "code",
   "execution_count": 4,
   "metadata": {
    "scrolled": false
   },
   "outputs": [
    {
     "name": "stdout",
     "output_type": "stream",
     "text": [
      "==== 00/19 : 118.193.45.223 ====\n",
      "swarm-00\n"
     ]
    },
    {
     "name": "stderr",
     "output_type": "stream",
     "text": [
      "fatal: destination path 'swarm-single-machine' already exists and is not an empty directory.\n"
     ]
    },
    {
     "name": "stdout",
     "output_type": "stream",
     "text": [
      "Skip...\n",
      "==== 01/19 : 128.1.135.208 ====\n",
      "swarm-01\n"
     ]
    },
    {
     "name": "stderr",
     "output_type": "stream",
     "text": [
      "fatal: destination path 'swarm-single-machine' already exists and is not an empty directory.\n"
     ]
    },
    {
     "name": "stdout",
     "output_type": "stream",
     "text": [
      "Skip...\n",
      "==== 02/19 : 103.14.34.147 ====\n",
      "swarm-02\n"
     ]
    },
    {
     "name": "stderr",
     "output_type": "stream",
     "text": [
      "fatal: destination path 'swarm-single-machine' already exists and is not an empty directory.\n"
     ]
    },
    {
     "name": "stdout",
     "output_type": "stream",
     "text": [
      "Skip...\n",
      "==== 03/19 : 23.91.97.32 ====\n",
      "swarm-03\n"
     ]
    },
    {
     "name": "stderr",
     "output_type": "stream",
     "text": [
      "fatal: destination path 'swarm-single-machine' already exists and is not an empty directory.\n"
     ]
    },
    {
     "name": "stdout",
     "output_type": "stream",
     "text": [
      "Skip...\n",
      "==== 04/19 : 152.32.210.117 ====\n",
      "swarm-04\n"
     ]
    },
    {
     "name": "stderr",
     "output_type": "stream",
     "text": [
      "fatal: destination path 'swarm-single-machine' already exists and is not an empty directory.\n"
     ]
    },
    {
     "name": "stdout",
     "output_type": "stream",
     "text": [
      "Skip...\n",
      "==== 05/19 : 23.91.98.101 ====\n",
      "swarm-05\n"
     ]
    },
    {
     "name": "stderr",
     "output_type": "stream",
     "text": [
      "fatal: destination path 'swarm-single-machine' already exists and is not an empty directory.\n"
     ]
    },
    {
     "name": "stdout",
     "output_type": "stream",
     "text": [
      "Skip...\n",
      "==== 06/19 : 152.32.189.174 ====\n",
      "swarm-06\n"
     ]
    },
    {
     "name": "stderr",
     "output_type": "stream",
     "text": [
      "fatal: destination path 'swarm-single-machine' already exists and is not an empty directory.\n"
     ]
    },
    {
     "name": "stdout",
     "output_type": "stream",
     "text": [
      "Skip...\n",
      "==== 07/19 : 36.255.220.243 ====\n",
      "swarm-07\n"
     ]
    },
    {
     "name": "stderr",
     "output_type": "stream",
     "text": [
      "fatal: destination path 'swarm-single-machine' already exists and is not an empty directory.\n"
     ]
    },
    {
     "name": "stdout",
     "output_type": "stream",
     "text": [
      "Skip...\n",
      "==== 08/19 : 152.32.192.130 ====\n",
      "swarm-08\n"
     ]
    },
    {
     "name": "stderr",
     "output_type": "stream",
     "text": [
      "fatal: destination path 'swarm-single-machine' already exists and is not an empty directory.\n"
     ]
    },
    {
     "name": "stdout",
     "output_type": "stream",
     "text": [
      "Skip...\n",
      "==== 09/19 : 101.36.117.63 ====\n",
      "swarm-09\n"
     ]
    },
    {
     "name": "stderr",
     "output_type": "stream",
     "text": [
      "fatal: destination path 'swarm-single-machine' already exists and is not an empty directory.\n"
     ]
    },
    {
     "name": "stdout",
     "output_type": "stream",
     "text": [
      "Skip...\n",
      "==== 10/19 : 101.36.120.12 ====\n",
      "swarm-10\n"
     ]
    },
    {
     "name": "stderr",
     "output_type": "stream",
     "text": [
      "fatal: destination path 'swarm-single-machine' already exists and is not an empty directory.\n"
     ]
    },
    {
     "name": "stdout",
     "output_type": "stream",
     "text": [
      "Skip...\n",
      "==== 11/19 : 101.36.122.83 ====\n",
      "swarm-11\n"
     ]
    },
    {
     "name": "stderr",
     "output_type": "stream",
     "text": [
      "fatal: destination path 'swarm-single-machine' already exists and is not an empty directory.\n"
     ]
    },
    {
     "name": "stdout",
     "output_type": "stream",
     "text": [
      "Skip...\n",
      "==== 12/19 : 152.32.215.147 ====\n",
      "swarm-12\n"
     ]
    },
    {
     "name": "stderr",
     "output_type": "stream",
     "text": [
      "fatal: destination path 'swarm-single-machine' already exists and is not an empty directory.\n"
     ]
    },
    {
     "name": "stdout",
     "output_type": "stream",
     "text": [
      "Skip...\n",
      "==== 13/19 : 152.32.251.236 ====\n",
      "swarm-13\n"
     ]
    },
    {
     "name": "stderr",
     "output_type": "stream",
     "text": [
      "fatal: destination path 'swarm-single-machine' already exists and is not an empty directory.\n"
     ]
    },
    {
     "name": "stdout",
     "output_type": "stream",
     "text": [
      "Skip...\n",
      "==== 14/19 : 152.32.190.173 ====\n",
      "10-7-155-240\n"
     ]
    },
    {
     "name": "stderr",
     "output_type": "stream",
     "text": [
      "Cloning into 'swarm-single-machine'...\n",
      "++ ./prepare.sh\n",
      "++ ./up.sh\n"
     ]
    },
    {
     "name": "stdout",
     "output_type": "stream",
     "text": [
      "PUBLIC_IP=152.32.190.173\n",
      "BEE_NAT_ADDR=152.32.190.173:1634\n"
     ]
    },
    {
     "name": "stderr",
     "output_type": "stream",
     "text": [
      "Creating network \"swarm-single-machine_default\" with the default driver\n",
      "Pulling clef-1 (ethersphere/clef:0.4.12)...\n"
     ]
    },
    {
     "name": "stdout",
     "output_type": "stream",
     "text": [
      "0.4.12: Pulling from ethersphere/clef\n",
      "Digest: sha256:3f6680ffbcad3c8cf9913d09add1d18be2caa4e8a8a89539ffd54c49de5a03e0\n",
      "Status: Downloaded newer image for ethersphere/clef:0.4.12\n"
     ]
    },
    {
     "name": "stderr",
     "output_type": "stream",
     "text": [
      "Pulling bee-1 (ethersphere/bee:beta)...\n"
     ]
    },
    {
     "name": "stdout",
     "output_type": "stream",
     "text": [
      "beta: Pulling from ethersphere/bee\n",
      "Digest: sha256:5738635ebc1be3e33438879c41c266ecea76dded59048fe842ef91f8935213b4\n",
      "Status: Downloaded newer image for ethersphere/bee:beta\n"
     ]
    },
    {
     "name": "stderr",
     "output_type": "stream",
     "text": [
      "Creating swarm-single-machine_clef-1_1 ... \n",
      "\u001b[1Bting swarm-single-machine_clef-1_1 ... \u001b[32mdone\u001b[0mCreating swarm-single-machine_bee-1_1  ... \n",
      "\u001b[1Bting swarm-single-machine_bee-1_1  ... \u001b[32mdone\u001b[0m"
     ]
    },
    {
     "name": "stdout",
     "output_type": "stream",
     "text": [
      "==== 15/19 : 23.91.101.163 ====\n",
      "10-7-36-8\n"
     ]
    },
    {
     "name": "stderr",
     "output_type": "stream",
     "text": [
      "Cloning into 'swarm-single-machine'...\n",
      "++ ./prepare.sh\n",
      "++ ./up.sh\n"
     ]
    },
    {
     "name": "stdout",
     "output_type": "stream",
     "text": [
      "PUBLIC_IP=23.91.101.163\n",
      "BEE_NAT_ADDR=23.91.101.163:1634\n"
     ]
    },
    {
     "name": "stderr",
     "output_type": "stream",
     "text": [
      "Creating network \"swarm-single-machine_default\" with the default driver\n",
      "Pulling clef-1 (ethersphere/clef:0.4.12)...\n"
     ]
    },
    {
     "name": "stdout",
     "output_type": "stream",
     "text": [
      "0.4.12: Pulling from ethersphere/clef\n",
      "Digest: sha256:3f6680ffbcad3c8cf9913d09add1d18be2caa4e8a8a89539ffd54c49de5a03e0\n",
      "Status: Downloaded newer image for ethersphere/clef:0.4.12\n"
     ]
    },
    {
     "name": "stderr",
     "output_type": "stream",
     "text": [
      "Pulling bee-1 (ethersphere/bee:beta)...\n"
     ]
    },
    {
     "name": "stdout",
     "output_type": "stream",
     "text": [
      "beta: Pulling from ethersphere/bee\n",
      "Digest: sha256:5738635ebc1be3e33438879c41c266ecea76dded59048fe842ef91f8935213b4\n",
      "Status: Downloaded newer image for ethersphere/bee:beta\n"
     ]
    },
    {
     "name": "stderr",
     "output_type": "stream",
     "text": [
      "Creating swarm-single-machine_clef-1_1 ... \n",
      "\u001b[1Bting swarm-single-machine_clef-1_1 ... \u001b[32mdone\u001b[0mCreating swarm-single-machine_bee-1_1  ... \n",
      "\u001b[1Bting swarm-single-machine_bee-1_1  ... \u001b[32mdone\u001b[0m"
     ]
    },
    {
     "name": "stdout",
     "output_type": "stream",
     "text": [
      "==== 16/19 : 118.193.39.223 ====\n",
      "10-7-70-72\n"
     ]
    },
    {
     "name": "stderr",
     "output_type": "stream",
     "text": [
      "Cloning into 'swarm-single-machine'...\n",
      "++ ./prepare.sh\n",
      "++ ./up.sh\n"
     ]
    },
    {
     "name": "stdout",
     "output_type": "stream",
     "text": [
      "PUBLIC_IP=118.193.39.223\n",
      "BEE_NAT_ADDR=118.193.39.223:1634\n"
     ]
    },
    {
     "name": "stderr",
     "output_type": "stream",
     "text": [
      "Creating network \"swarm-single-machine_default\" with the default driver\n",
      "Pulling clef-1 (ethersphere/clef:0.4.12)...\n"
     ]
    },
    {
     "name": "stdout",
     "output_type": "stream",
     "text": [
      "0.4.12: Pulling from ethersphere/clef\n",
      "Digest: sha256:3f6680ffbcad3c8cf9913d09add1d18be2caa4e8a8a89539ffd54c49de5a03e0\n",
      "Status: Downloaded newer image for ethersphere/clef:0.4.12\n"
     ]
    },
    {
     "name": "stderr",
     "output_type": "stream",
     "text": [
      "Pulling bee-1 (ethersphere/bee:beta)...\n"
     ]
    },
    {
     "name": "stdout",
     "output_type": "stream",
     "text": [
      "beta: Pulling from ethersphere/bee\n",
      "Digest: sha256:5738635ebc1be3e33438879c41c266ecea76dded59048fe842ef91f8935213b4\n",
      "Status: Downloaded newer image for ethersphere/bee:beta\n"
     ]
    },
    {
     "name": "stderr",
     "output_type": "stream",
     "text": [
      "Creating swarm-single-machine_clef-1_1 ... \n",
      "\u001b[1Bting swarm-single-machine_clef-1_1 ... \u001b[32mdone\u001b[0mCreating swarm-single-machine_bee-1_1  ... \n",
      "\u001b[1Bting swarm-single-machine_bee-1_1  ... \u001b[32mdone\u001b[0m"
     ]
    },
    {
     "name": "stdout",
     "output_type": "stream",
     "text": [
      "==== 17/19 : 165.154.3.36 ====\n",
      "10-7-166-180\n"
     ]
    },
    {
     "name": "stderr",
     "output_type": "stream",
     "text": [
      "Cloning into 'swarm-single-machine'...\n",
      "++ ./prepare.sh\n",
      "++ ./up.sh\n"
     ]
    },
    {
     "name": "stdout",
     "output_type": "stream",
     "text": [
      "PUBLIC_IP=165.154.3.36\n",
      "BEE_NAT_ADDR=165.154.3.36:1634\n"
     ]
    },
    {
     "name": "stderr",
     "output_type": "stream",
     "text": [
      "Creating network \"swarm-single-machine_default\" with the default driver\n",
      "Pulling clef-1 (ethersphere/clef:0.4.12)...\n"
     ]
    },
    {
     "name": "stdout",
     "output_type": "stream",
     "text": [
      "0.4.12: Pulling from ethersphere/clef\n",
      "Digest: sha256:3f6680ffbcad3c8cf9913d09add1d18be2caa4e8a8a89539ffd54c49de5a03e0\n",
      "Status: Downloaded newer image for ethersphere/clef:0.4.12\n"
     ]
    },
    {
     "name": "stderr",
     "output_type": "stream",
     "text": [
      "Pulling bee-1 (ethersphere/bee:beta)...\n"
     ]
    },
    {
     "name": "stdout",
     "output_type": "stream",
     "text": [
      "beta: Pulling from ethersphere/bee\n",
      "Digest: sha256:5738635ebc1be3e33438879c41c266ecea76dded59048fe842ef91f8935213b4\n",
      "Status: Downloaded newer image for ethersphere/bee:beta\n"
     ]
    },
    {
     "name": "stderr",
     "output_type": "stream",
     "text": [
      "Creating swarm-single-machine_clef-1_1 ... \n",
      "\u001b[1Bting swarm-single-machine_clef-1_1 ... \u001b[32mdone\u001b[0mCreating swarm-single-machine_bee-1_1  ... \n",
      "\u001b[1Bting swarm-single-machine_bee-1_1  ... \u001b[32mdone\u001b[0m"
     ]
    },
    {
     "name": "stdout",
     "output_type": "stream",
     "text": [
      "==== 18/19 : 45.249.247.180 ====\n",
      "10-7-11-247\n"
     ]
    },
    {
     "name": "stderr",
     "output_type": "stream",
     "text": [
      "Cloning into 'swarm-single-machine'...\n",
      "++ ./prepare.sh\n",
      "++ ./up.sh\n"
     ]
    },
    {
     "name": "stdout",
     "output_type": "stream",
     "text": [
      "PUBLIC_IP=45.249.247.180\n",
      "BEE_NAT_ADDR=45.249.247.180:1634\n"
     ]
    },
    {
     "name": "stderr",
     "output_type": "stream",
     "text": [
      "Creating network \"swarm-single-machine_default\" with the default driver\n",
      "Pulling clef-1 (ethersphere/clef:0.4.12)...\n"
     ]
    },
    {
     "name": "stdout",
     "output_type": "stream",
     "text": [
      "0.4.12: Pulling from ethersphere/clef\n",
      "Digest: sha256:3f6680ffbcad3c8cf9913d09add1d18be2caa4e8a8a89539ffd54c49de5a03e0\n",
      "Status: Downloaded newer image for ethersphere/clef:0.4.12\n"
     ]
    },
    {
     "name": "stderr",
     "output_type": "stream",
     "text": [
      "Pulling bee-1 (ethersphere/bee:beta)...\n"
     ]
    },
    {
     "name": "stdout",
     "output_type": "stream",
     "text": [
      "beta: Pulling from ethersphere/bee\n",
      "Digest: sha256:5738635ebc1be3e33438879c41c266ecea76dded59048fe842ef91f8935213b4\n",
      "Status: Downloaded newer image for ethersphere/bee:beta\n"
     ]
    },
    {
     "name": "stderr",
     "output_type": "stream",
     "text": [
      "Creating swarm-single-machine_clef-1_1 ... \n",
      "\u001b[1Bting swarm-single-machine_clef-1_1 ... \u001b[32mdone\u001b[0mCreating swarm-single-machine_bee-1_1  ... \n",
      "\u001b[1Bting swarm-single-machine_bee-1_1  ... \u001b[32mdone\u001b[0m"
     ]
    }
   ],
   "source": [
    "# Try to init all\n",
    "\n",
    "for i, host in enumerate(hosts):\n",
    "    print(f'==== {i:02}/{len(hosts):02} : {host} ====')\n",
    "    conn = Connection(f'ubuntu@{host}')\n",
    "    conn.run('hostname')\n",
    "    try:\n",
    "        conn.run('git clone https://github.com/renning22/swarm-single-machine.git && cd swarm-single-machine && ./init.sh')\n",
    "    except UnexpectedExit:\n",
    "        print('Skip...')"
   ]
  },
  {
   "cell_type": "code",
   "execution_count": null,
   "metadata": {
    "scrolled": true
   },
   "outputs": [],
   "source": [
    "# Restart unhealthy\n",
    "\n",
    "for i, host in enumerate(hosts):\n",
    "    print(f'==== {i:02}/{len(hosts):02} : {host} ====')\n",
    "    conn = Connection(f'ubuntu@{host}')\n",
    "    conn.run('hostname')\n",
    "    result = conn.run(\"curl -s http://localhost:1635/peers | jq '.peers | length'\", hide=True)\n",
    "    print(f'peers = {result.stdout.strip()}')\n",
    "    if not result.stdout.strip():\n",
    "        print('Restarting...')\n",
    "        conn.run('cd swarm-single-machine && ./restart.sh')"
   ]
  }
 ],
 "metadata": {
  "kernelspec": {
   "display_name": "Python 3",
   "language": "python",
   "name": "python3"
  },
  "language_info": {
   "codemirror_mode": {
    "name": "ipython",
    "version": 3
   },
   "file_extension": ".py",
   "mimetype": "text/x-python",
   "name": "python",
   "nbconvert_exporter": "python",
   "pygments_lexer": "ipython3",
   "version": "3.8.10"
  }
 },
 "nbformat": 4,
 "nbformat_minor": 2
}
