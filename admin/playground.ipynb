{
 "cells": [
  {
   "cell_type": "code",
   "execution_count": 1,
   "metadata": {},
   "outputs": [
    {
     "data": {
      "text/plain": [
       "'3.8.10 (default, May 19 2021, 18:05:58) \\n[GCC 7.3.0]'"
      ]
     },
     "execution_count": 1,
     "metadata": {},
     "output_type": "execute_result"
    }
   ],
   "source": [
    "import sys\n",
    "import json\n",
    "from fabric import Connection\n",
    "from invoke import Responder, UnexpectedExit\n",
    "\n",
    "sys.version"
   ]
  },
  {
   "cell_type": "code",
   "execution_count": null,
   "metadata": {},
   "outputs": [],
   "source": [
    "result = Connection('ubuntu@128.1.135.208').run('hostname', hide=False)"
   ]
  },
  {
   "cell_type": "code",
   "execution_count": null,
   "metadata": {},
   "outputs": [],
   "source": [
    "result.stdout"
   ]
  },
  {
   "cell_type": "code",
   "execution_count": 2,
   "metadata": {},
   "outputs": [],
   "source": [
    "hosts = [\n",
    "    \"118.193.45.223\",\n",
    "    \"128.1.135.208\",\n",
    "    \"103.14.34.147\",\n",
    "    \"23.91.97.32\",\n",
    "    \"152.32.210.117\",\n",
    "    \"23.91.98.101\",\n",
    "    \"152.32.189.174\",\n",
    "    \"36.255.220.243\",\n",
    "    \"152.32.192.130\",\n",
    "    \"101.36.117.63\",\n",
    "    \"101.36.120.12\",\n",
    "    \"101.36.122.83\",\n",
    "    \"152.32.215.147\",\n",
    "    \"152.32.251.236\",\n",
    "    \"152.32.190.173\",\n",
    "    \"23.91.101.163\",\n",
    "    \"118.193.39.223\",\n",
    "    \"165.154.3.36\",\n",
    "    \"45.249.247.180\",\n",
    "    \"152.32.210.173\",\n",
    "]"
   ]
  },
  {
   "cell_type": "code",
   "execution_count": null,
   "metadata": {},
   "outputs": [],
   "source": [
    "hosts"
   ]
  },
  {
   "cell_type": "code",
   "execution_count": 3,
   "metadata": {
    "scrolled": false
   },
   "outputs": [
    {
     "name": "stdout",
     "output_type": "stream",
     "text": [
      "==== 00/20 : 118.193.45.223 ====\n",
      "swarm-00\n",
      "peers = \n",
      "==== 01/20 : 128.1.135.208 ====\n",
      "swarm-01\n",
      "peers = \n",
      "==== 02/20 : 103.14.34.147 ====\n",
      "swarm-02\n",
      "peers = \n",
      "==== 03/20 : 23.91.97.32 ====\n",
      "swarm-03\n",
      "peers = \n",
      "==== 04/20 : 152.32.210.117 ====\n",
      "swarm-04\n",
      "peers = \n",
      "==== 05/20 : 23.91.98.101 ====\n",
      "swarm-05\n",
      "peers = \n",
      "==== 06/20 : 152.32.189.174 ====\n",
      "swarm-06\n",
      "peers = \n",
      "==== 07/20 : 36.255.220.243 ====\n",
      "swarm-07\n",
      "peers = \n",
      "==== 08/20 : 152.32.192.130 ====\n",
      "swarm-08\n",
      "peers = \n",
      "==== 09/20 : 101.36.117.63 ====\n",
      "swarm-09\n",
      "peers = \n",
      "==== 10/20 : 101.36.120.12 ====\n",
      "swarm-10\n",
      "peers = \n",
      "==== 11/20 : 101.36.122.83 ====\n",
      "swarm-11\n",
      "peers = \n",
      "==== 12/20 : 152.32.215.147 ====\n",
      "swarm-12\n",
      "peers = \n",
      "==== 13/20 : 152.32.251.236 ====\n",
      "swarm-13\n",
      "peers = \n",
      "==== 14/20 : 152.32.190.173 ====\n",
      "10-7-155-240\n",
      "peers = \n",
      "==== 15/20 : 23.91.101.163 ====\n",
      "10-7-36-8\n",
      "peers = \n",
      "==== 16/20 : 118.193.39.223 ====\n",
      "10-7-70-72\n",
      "peers = \n",
      "==== 17/20 : 165.154.3.36 ====\n",
      "10-7-166-180\n",
      "peers = \n",
      "==== 18/20 : 45.249.247.180 ====\n",
      "10-7-11-247\n",
      "peers = \n",
      "==== 19/20 : 152.32.210.173 ====\n",
      "10-7-68-151\n",
      "peers = \n"
     ]
    }
   ],
   "source": [
    "# Check status\n",
    "\n",
    "for i, host in enumerate(hosts):\n",
    "    print(f'==== {i:02}/{len(hosts):02} : {host} ====')\n",
    "    conn = Connection(f'ubuntu@{host}')\n",
    "    conn.run('hostname')\n",
    "    result = conn.run(\"curl -s http://localhost:1635/peers | jq '.peers | length'\", hide=True)\n",
    "    print(f'peers = {result.stdout.strip()}')"
   ]
  },
  {
   "cell_type": "code",
   "execution_count": null,
   "metadata": {
    "scrolled": true
   },
   "outputs": [],
   "source": [
    "# Check peer balances\n",
    "\n",
    "for i, host in enumerate(hosts):\n",
    "    print(f'==== {i:02}/{len(hosts):02} : {host} ====')\n",
    "    conn = Connection(f'ubuntu@{host}')\n",
    "    conn.run('hostname')\n",
    "    result = conn.run('cd swarm-single-machine && ./balances.sh')\n",
    "    print()"
   ]
  },
  {
   "cell_type": "code",
   "execution_count": 13,
   "metadata": {},
   "outputs": [
    {
     "name": "stdout",
     "output_type": "stream",
     "text": [
      "==== 00/20 : 118.193.45.223 ====\n",
      "swarm-00\n"
     ]
    },
    {
     "name": "stderr",
     "output_type": "stream",
     "text": [
      "Stopping swarm-single-machine_bee-1_1  ... \n",
      "Stopping swarm-single-machine_clef-1_1 ... \n",
      "Stopping swarm-single-machine_bee-1_1  ... done\n",
      "Stopping swarm-single-machine_clef-1_1 ... done\n",
      "Removing swarm-single-machine_bee-1_1  ... \n",
      "Removing swarm-single-machine_clef-1_1 ... \n",
      "Removing swarm-single-machine_clef-1_1 ... done\n",
      "Removing swarm-single-machine_bee-1_1  ... done\n",
      "Removing network swarm-single-machine_default\n"
     ]
    },
    {
     "name": "stdout",
     "output_type": "stream",
     "text": [
      "==== 01/20 : 128.1.135.208 ====\n",
      "swarm-01\n"
     ]
    },
    {
     "name": "stderr",
     "output_type": "stream",
     "text": [
      "Stopping swarm-single-machine_bee-1_1  ... \n",
      "Stopping swarm-single-machine_clef-1_1 ... \n",
      "\u001b[1Bping swarm-single-machine_clef-1_1 ... \u001b[32mdone\u001b[0m\u001b[1A\u001b[2KRemoving swarm-single-machine_bee-1_1  ... \n",
      "Removing swarm-single-machine_clef-1_1 ... \n",
      "\u001b[1BRemoving network swarm-single-machine_defaultone\u001b[0m\u001b[1A\u001b[2K\n"
     ]
    },
    {
     "name": "stdout",
     "output_type": "stream",
     "text": [
      "==== 02/20 : 103.14.34.147 ====\n",
      "swarm-02\n"
     ]
    },
    {
     "name": "stderr",
     "output_type": "stream",
     "text": [
      "Stopping swarm-single-machine_bee-1_1  ... \n",
      "Stopping swarm-single-machine_clef-1_1 ... \n",
      "\u001b[1Bping swarm-single-machine_clef-1_1 ... \u001b[32mdone\u001b[0m\u001b[1A\u001b[2KRemoving swarm-single-machine_bee-1_1  ... \n",
      "Removing swarm-single-machine_clef-1_1 ... \n",
      "\u001b[2BRemoving network swarm-single-machine_defaultone\u001b[0m\u001b[2A\u001b[2K\n"
     ]
    },
    {
     "name": "stdout",
     "output_type": "stream",
     "text": [
      "==== 03/20 : 23.91.97.32 ====\n",
      "swarm-03\n"
     ]
    },
    {
     "name": "stderr",
     "output_type": "stream",
     "text": [
      "Stopping swarm-single-machine_bee-1_1  ... \n",
      "Stopping swarm-single-machine_clef-1_1 ... \n",
      "\u001b[1Bping swarm-single-machine_clef-1_1 ... \u001b[32mdone\u001b[0m\u001b[1A\u001b[2KRemoving swarm-single-machine_bee-1_1  ... \n",
      "Removing swarm-single-machine_clef-1_1 ... \n",
      "\u001b[2BRemoving network swarm-single-machine_defaultone\u001b[0m\u001b[2A\u001b[2K\n"
     ]
    },
    {
     "name": "stdout",
     "output_type": "stream",
     "text": [
      "==== 04/20 : 152.32.210.117 ====\n",
      "swarm-04\n"
     ]
    },
    {
     "name": "stderr",
     "output_type": "stream",
     "text": [
      "Stopping swarm-single-machine_bee-1_1  ... \n",
      "Stopping swarm-single-machine_clef-1_1 ... \n",
      "\u001b[1Bping swarm-single-machine_clef-1_1 ... \u001b[32mdone\u001b[0m\u001b[1A\u001b[2KRemoving swarm-single-machine_bee-1_1  ... \n",
      "Removing swarm-single-machine_clef-1_1 ... \n",
      "\u001b[1Bving swarm-single-machine_clef-1_1 ... \u001b[32mdone\u001b[0m\u001b[1A\u001b[2KRemoving network swarm-single-machine_default\n"
     ]
    },
    {
     "name": "stdout",
     "output_type": "stream",
     "text": [
      "==== 05/20 : 23.91.98.101 ====\n",
      "swarm-05\n"
     ]
    },
    {
     "name": "stderr",
     "output_type": "stream",
     "text": [
      "Stopping swarm-single-machine_bee-1_1  ... \n",
      "Stopping swarm-single-machine_clef-1_1 ... \n",
      "\u001b[1Bping swarm-single-machine_clef-1_1 ... \u001b[32mdone\u001b[0m\u001b[1A\u001b[2KRemoving swarm-single-machine_bee-1_1  ... \n",
      "Removing swarm-single-machine_clef-1_1 ... \n",
      "\u001b[1Bving swarm-single-machine_clef-1_1 ... \u001b[32mdone\u001b[0m\u001b[1A\u001b[2KRemoving network swarm-single-machine_default\n"
     ]
    },
    {
     "name": "stdout",
     "output_type": "stream",
     "text": [
      "==== 06/20 : 152.32.189.174 ====\n",
      "swarm-06\n"
     ]
    },
    {
     "name": "stderr",
     "output_type": "stream",
     "text": [
      "Stopping swarm-single-machine_bee-1_1  ... \n",
      "Stopping swarm-single-machine_clef-1_1 ... \n",
      "\u001b[1Bping swarm-single-machine_clef-1_1 ... \u001b[32mdone\u001b[0m\u001b[1A\u001b[2KRemoving swarm-single-machine_bee-1_1  ... \n",
      "Removing swarm-single-machine_clef-1_1 ... \n",
      "\u001b[1Bving swarm-single-machine_clef-1_1 ... \u001b[32mdone\u001b[0m\u001b[1A\u001b[2KRemoving network swarm-single-machine_default\n"
     ]
    },
    {
     "name": "stdout",
     "output_type": "stream",
     "text": [
      "==== 07/20 : 36.255.220.243 ====\n",
      "swarm-07\n"
     ]
    },
    {
     "name": "stderr",
     "output_type": "stream",
     "text": [
      "Stopping swarm-single-machine_bee-1_1  ... \n",
      "Stopping swarm-single-machine_clef-1_1 ... \n",
      "\u001b[1Bping swarm-single-machine_clef-1_1 ... \u001b[32mdone\u001b[0m\u001b[1A\u001b[2KRemoving swarm-single-machine_bee-1_1  ... \n",
      "Removing swarm-single-machine_clef-1_1 ... \n",
      "\u001b[1Bving swarm-single-machine_clef-1_1 ... \u001b[32mdone\u001b[0m\u001b[1A\u001b[2KRemoving network swarm-single-machine_default\n"
     ]
    },
    {
     "name": "stdout",
     "output_type": "stream",
     "text": [
      "==== 08/20 : 152.32.192.130 ====\n",
      "swarm-08\n"
     ]
    },
    {
     "name": "stderr",
     "output_type": "stream",
     "text": [
      "Stopping swarm-single-machine_bee-1_1  ... \n",
      "Stopping swarm-single-machine_clef-1_1 ... \n",
      "\u001b[1Bping swarm-single-machine_clef-1_1 ... \u001b[32mdone\u001b[0m\u001b[1A\u001b[2KRemoving swarm-single-machine_bee-1_1  ... \n",
      "Removing swarm-single-machine_clef-1_1 ... \n",
      "\u001b[2Bving swarm-single-machine_bee-1_1  ... \u001b[32mdone\u001b[0m\u001b[2A\u001b[2KRemoving network swarm-single-machine_default\n"
     ]
    },
    {
     "name": "stdout",
     "output_type": "stream",
     "text": [
      "==== 09/20 : 101.36.117.63 ====\n",
      "swarm-09\n"
     ]
    },
    {
     "name": "stderr",
     "output_type": "stream",
     "text": [
      "Stopping swarm-single-machine_bee-1_1  ... \n",
      "Stopping swarm-single-machine_clef-1_1 ... \n",
      "\u001b[1Bping swarm-single-machine_clef-1_1 ... \u001b[32mdone\u001b[0m\u001b[1A\u001b[2KRemoving swarm-single-machine_bee-1_1  ... \n",
      "Removing swarm-single-machine_clef-1_1 ... \n",
      "\u001b[2Bving swarm-single-machine_bee-1_1  ... \u001b[32mdone\u001b[0m\u001b[2A\u001b[2KRemoving network swarm-single-machine_default\n"
     ]
    },
    {
     "name": "stdout",
     "output_type": "stream",
     "text": [
      "==== 10/20 : 101.36.120.12 ====\n",
      "swarm-10\n"
     ]
    },
    {
     "name": "stderr",
     "output_type": "stream",
     "text": [
      "Stopping swarm-single-machine_bee-1_1  ... \n",
      "Stopping swarm-single-machine_clef-1_1 ... \n",
      "\u001b[1Bping swarm-single-machine_clef-1_1 ... \u001b[32mdone\u001b[0m\u001b[1A\u001b[2KRemoving swarm-single-machine_bee-1_1  ... \n",
      "Removing swarm-single-machine_clef-1_1 ... \n",
      "\u001b[1Bving swarm-single-machine_clef-1_1 ... \u001b[32mdone\u001b[0m\u001b[1A\u001b[2KRemoving network swarm-single-machine_default\n"
     ]
    },
    {
     "name": "stdout",
     "output_type": "stream",
     "text": [
      "==== 11/20 : 101.36.122.83 ====\n",
      "swarm-11\n"
     ]
    },
    {
     "name": "stderr",
     "output_type": "stream",
     "text": [
      "Stopping swarm-single-machine_bee-1_1  ... \n",
      "Stopping swarm-single-machine_clef-1_1 ... \n",
      "\u001b[1Bping swarm-single-machine_clef-1_1 ... \u001b[32mdone\u001b[0m\u001b[1A\u001b[2KRemoving swarm-single-machine_bee-1_1  ... \n",
      "Removing swarm-single-machine_clef-1_1 ... \n",
      "\u001b[1BRemoving network swarm-single-machine_defaultone\u001b[0m\u001b[1A\u001b[2K\n"
     ]
    },
    {
     "name": "stdout",
     "output_type": "stream",
     "text": [
      "==== 12/20 : 152.32.215.147 ====\n",
      "swarm-12\n"
     ]
    },
    {
     "name": "stderr",
     "output_type": "stream",
     "text": [
      "Stopping swarm-single-machine_bee-1_1  ... \n",
      "Stopping swarm-single-machine_clef-1_1 ... \n",
      "\u001b[1Bping swarm-single-machine_clef-1_1 ... \u001b[32mdone\u001b[0m\u001b[1A\u001b[2KRemoving swarm-single-machine_bee-1_1  ... \n",
      "Removing swarm-single-machine_clef-1_1 ... \n",
      "\u001b[2Bving swarm-single-machine_bee-1_1  ... \u001b[32mdone\u001b[0m\u001b[2A\u001b[2KRemoving network swarm-single-machine_default\n"
     ]
    },
    {
     "name": "stdout",
     "output_type": "stream",
     "text": [
      "==== 13/20 : 152.32.251.236 ====\n",
      "swarm-13\n"
     ]
    },
    {
     "name": "stderr",
     "output_type": "stream",
     "text": [
      "Stopping swarm-single-machine_bee-1_1  ... \n",
      "Stopping swarm-single-machine_clef-1_1 ... \n",
      "\u001b[1Bping swarm-single-machine_clef-1_1 ... \u001b[32mdone\u001b[0m\u001b[1A\u001b[2KRemoving swarm-single-machine_bee-1_1  ... \n",
      "Removing swarm-single-machine_clef-1_1 ... \n",
      "\u001b[2Bving swarm-single-machine_bee-1_1  ... \u001b[32mdone\u001b[0m\u001b[2A\u001b[2KRemoving network swarm-single-machine_default\n"
     ]
    },
    {
     "name": "stdout",
     "output_type": "stream",
     "text": [
      "==== 14/20 : 152.32.190.173 ====\n",
      "10-7-155-240\n"
     ]
    },
    {
     "name": "stderr",
     "output_type": "stream",
     "text": [
      "Stopping swarm-single-machine_bee-1_1  ... \n",
      "Stopping swarm-single-machine_clef-1_1 ... \n",
      "\u001b[1Bping swarm-single-machine_clef-1_1 ... \u001b[32mdone\u001b[0m\u001b[1A\u001b[2KRemoving swarm-single-machine_bee-1_1  ... \n",
      "Removing swarm-single-machine_clef-1_1 ... \n",
      "\u001b[2Bving swarm-single-machine_bee-1_1  ... \u001b[32mdone\u001b[0m\u001b[2A\u001b[2KRemoving network swarm-single-machine_default\n"
     ]
    },
    {
     "name": "stdout",
     "output_type": "stream",
     "text": [
      "==== 15/20 : 23.91.101.163 ====\n",
      "10-7-36-8\n"
     ]
    },
    {
     "name": "stderr",
     "output_type": "stream",
     "text": [
      "Stopping swarm-single-machine_bee-1_1  ... \n",
      "Stopping swarm-single-machine_clef-1_1 ... \n",
      "\u001b[1Bping swarm-single-machine_clef-1_1 ... \u001b[32mdone\u001b[0m\u001b[1A\u001b[2KRemoving swarm-single-machine_bee-1_1  ... \n",
      "Removing swarm-single-machine_clef-1_1 ... \n",
      "\u001b[1BRemoving network swarm-single-machine_defaultone\u001b[0m\u001b[1A\u001b[2K\n"
     ]
    },
    {
     "name": "stdout",
     "output_type": "stream",
     "text": [
      "==== 16/20 : 118.193.39.223 ====\n",
      "10-7-70-72\n"
     ]
    },
    {
     "name": "stderr",
     "output_type": "stream",
     "text": [
      "Stopping swarm-single-machine_bee-1_1  ... \n",
      "Stopping swarm-single-machine_clef-1_1 ... \n",
      "\u001b[1Bping swarm-single-machine_clef-1_1 ... \u001b[32mdone\u001b[0m\u001b[1A\u001b[2KRemoving swarm-single-machine_bee-1_1  ... \n",
      "Removing swarm-single-machine_clef-1_1 ... \n",
      "\u001b[1Bving swarm-single-machine_clef-1_1 ... \u001b[32mdone\u001b[0m\u001b[1A\u001b[2KRemoving network swarm-single-machine_default\n"
     ]
    },
    {
     "name": "stdout",
     "output_type": "stream",
     "text": [
      "==== 17/20 : 165.154.3.36 ====\n",
      "10-7-166-180\n"
     ]
    },
    {
     "name": "stderr",
     "output_type": "stream",
     "text": [
      "Stopping swarm-single-machine_bee-1_1  ... \n",
      "Stopping swarm-single-machine_clef-1_1 ... \n",
      "\u001b[1Bping swarm-single-machine_clef-1_1 ... \u001b[32mdone\u001b[0m\u001b[1A\u001b[2KRemoving swarm-single-machine_bee-1_1  ... \n",
      "Removing swarm-single-machine_clef-1_1 ... \n",
      "\u001b[1Bving swarm-single-machine_clef-1_1 ... \u001b[32mdone\u001b[0m\u001b[1A\u001b[2KRemoving network swarm-single-machine_default\n"
     ]
    },
    {
     "name": "stdout",
     "output_type": "stream",
     "text": [
      "==== 18/20 : 45.249.247.180 ====\n",
      "10-7-11-247\n"
     ]
    },
    {
     "name": "stderr",
     "output_type": "stream",
     "text": [
      "Stopping swarm-single-machine_bee-1_1  ... \n",
      "Stopping swarm-single-machine_clef-1_1 ... \n",
      "\u001b[1Bping swarm-single-machine_clef-1_1 ... \u001b[32mdone\u001b[0m\u001b[1A\u001b[2KRemoving swarm-single-machine_bee-1_1  ... \n",
      "Removing swarm-single-machine_clef-1_1 ... \n",
      "\u001b[1BRemoving network swarm-single-machine_defaultone\u001b[0m\u001b[1A\u001b[2K\n"
     ]
    },
    {
     "name": "stdout",
     "output_type": "stream",
     "text": [
      "==== 19/20 : 152.32.210.173 ====\n",
      "10-7-68-151\n"
     ]
    },
    {
     "name": "stderr",
     "output_type": "stream",
     "text": [
      "Removing network swarm-single-machine_default\n",
      "Network swarm-single-machine_default not found.\n"
     ]
    }
   ],
   "source": [
    "# All down\n",
    "\n",
    "for i, host in enumerate(hosts):\n",
    "    print(f'==== {i:02}/{len(hosts):02} : {host} ====')\n",
    "    conn = Connection(f'ubuntu@{host}')\n",
    "    conn.run('hostname')\n",
    "    conn.run('cd swarm-single-machine && ./down.sh')"
   ]
  },
  {
   "cell_type": "code",
   "execution_count": 14,
   "metadata": {},
   "outputs": [
    {
     "name": "stdout",
     "output_type": "stream",
     "text": [
      "==== 00/20 : 118.193.45.223 ====\n",
      "swarm-00\n",
      "Already up to date.\n",
      "PUBLIC_IP=118.193.45.223\n",
      "BEE_NAT_ADDR=118.193.45.223:1634\n"
     ]
    },
    {
     "name": "stderr",
     "output_type": "stream",
     "text": [
      "Creating network \"swarm-single-machine_default\" with the default driver\n",
      "Creating swarm-single-machine_clef-1_1 ... \n",
      "Creating swarm-single-machine_clef-1_1 ... done\n",
      "Creating swarm-single-machine_bee-1_1  ... \n",
      "Creating swarm-single-machine_bee-1_1  ... done\n"
     ]
    },
    {
     "name": "stdout",
     "output_type": "stream",
     "text": [
      "==== 01/20 : 128.1.135.208 ====\n",
      "swarm-01\n"
     ]
    },
    {
     "name": "stderr",
     "output_type": "stream",
     "text": [
      "From https://github.com/renning22/swarm-single-machine\n",
      "   c35989c..d6357ae  master     -> origin/master\n"
     ]
    },
    {
     "name": "stdout",
     "output_type": "stream",
     "text": [
      "Updating c35989c..d6357ae\n",
      "Fast-forward\n",
      " docker-compose.yml | 9 ++++-----\n",
      " 1 file changed, 4 insertions(+), 5 deletions(-)\n",
      "PUBLIC_IP=128.1.135.208\n",
      "BEE_NAT_ADDR=128.1.135.208:1634\n"
     ]
    },
    {
     "name": "stderr",
     "output_type": "stream",
     "text": [
      "Creating network \"swarm-single-machine_default\" with the default driver\n",
      "Creating swarm-single-machine_clef-1_1 ... \n",
      "\u001b[1Bting swarm-single-machine_clef-1_1 ... \u001b[32mdone\u001b[0mCreating swarm-single-machine_bee-1_1  ... \n",
      "\u001b[1Bting swarm-single-machine_bee-1_1  ... \u001b[32mdone\u001b[0m"
     ]
    },
    {
     "name": "stdout",
     "output_type": "stream",
     "text": [
      "==== 02/20 : 103.14.34.147 ====\n",
      "swarm-02\n"
     ]
    },
    {
     "name": "stderr",
     "output_type": "stream",
     "text": [
      "From https://github.com/renning22/swarm-single-machine\n",
      "   c35989c..d6357ae  master     -> origin/master\n"
     ]
    },
    {
     "name": "stdout",
     "output_type": "stream",
     "text": [
      "Updating c35989c..d6357ae\n",
      "Fast-forward\n",
      " docker-compose.yml | 9 ++++-----\n",
      " 1 file changed, 4 insertions(+), 5 deletions(-)\n",
      "PUBLIC_IP=103.14.34.147\n",
      "BEE_NAT_ADDR=103.14.34.147:1634\n"
     ]
    },
    {
     "name": "stderr",
     "output_type": "stream",
     "text": [
      "Creating network \"swarm-single-machine_default\" with the default driver\n",
      "Creating swarm-single-machine_clef-1_1 ... \n",
      "\u001b[1Bting swarm-single-machine_clef-1_1 ... \u001b[32mdone\u001b[0mCreating swarm-single-machine_bee-1_1  ... \n",
      "\u001b[1Bting swarm-single-machine_bee-1_1  ... \u001b[32mdone\u001b[0m"
     ]
    },
    {
     "name": "stdout",
     "output_type": "stream",
     "text": [
      "==== 03/20 : 23.91.97.32 ====\n",
      "swarm-03\n"
     ]
    },
    {
     "name": "stderr",
     "output_type": "stream",
     "text": [
      "From https://github.com/renning22/swarm-single-machine\n",
      "   c35989c..d6357ae  master     -> origin/master\n"
     ]
    },
    {
     "name": "stdout",
     "output_type": "stream",
     "text": [
      "Updating c35989c..d6357ae\n",
      "Fast-forward\n",
      " docker-compose.yml | 9 ++++-----\n",
      " 1 file changed, 4 insertions(+), 5 deletions(-)\n",
      "PUBLIC_IP=23.91.97.32\n",
      "BEE_NAT_ADDR=23.91.97.32:1634\n"
     ]
    },
    {
     "name": "stderr",
     "output_type": "stream",
     "text": [
      "Creating network \"swarm-single-machine_default\" with the default driver\n",
      "Creating swarm-single-machine_clef-1_1 ... \n",
      "\u001b[1Bting swarm-single-machine_clef-1_1 ... \u001b[32mdone\u001b[0mCreating swarm-single-machine_bee-1_1  ... \n",
      "\u001b[1Bting swarm-single-machine_bee-1_1  ... \u001b[32mdone\u001b[0m"
     ]
    },
    {
     "name": "stdout",
     "output_type": "stream",
     "text": [
      "==== 04/20 : 152.32.210.117 ====\n",
      "swarm-04\n"
     ]
    },
    {
     "name": "stderr",
     "output_type": "stream",
     "text": [
      "From https://github.com/renning22/swarm-single-machine\n",
      "   c35989c..d6357ae  master     -> origin/master\n"
     ]
    },
    {
     "name": "stdout",
     "output_type": "stream",
     "text": [
      "Updating c35989c..d6357ae\n",
      "Fast-forward\n",
      " docker-compose.yml | 9 ++++-----\n",
      " 1 file changed, 4 insertions(+), 5 deletions(-)\n",
      "PUBLIC_IP=152.32.210.117\n",
      "BEE_NAT_ADDR=152.32.210.117:1634\n"
     ]
    },
    {
     "name": "stderr",
     "output_type": "stream",
     "text": [
      "Creating network \"swarm-single-machine_default\" with the default driver\n",
      "Creating swarm-single-machine_clef-1_1 ... \n",
      "\u001b[1Bting swarm-single-machine_clef-1_1 ... \u001b[32mdone\u001b[0mCreating swarm-single-machine_bee-1_1  ... \n",
      "\u001b[1Bting swarm-single-machine_bee-1_1  ... \u001b[32mdone\u001b[0m"
     ]
    },
    {
     "name": "stdout",
     "output_type": "stream",
     "text": [
      "==== 05/20 : 23.91.98.101 ====\n",
      "swarm-05\n"
     ]
    },
    {
     "name": "stderr",
     "output_type": "stream",
     "text": [
      "From https://github.com/renning22/swarm-single-machine\n",
      "   c35989c..d6357ae  master     -> origin/master\n"
     ]
    },
    {
     "name": "stdout",
     "output_type": "stream",
     "text": [
      "Updating c35989c..d6357ae\n",
      "Fast-forward\n",
      " docker-compose.yml | 9 ++++-----\n",
      " 1 file changed, 4 insertions(+), 5 deletions(-)\n",
      "PUBLIC_IP=23.91.98.101\n",
      "BEE_NAT_ADDR=23.91.98.101:1634\n"
     ]
    },
    {
     "name": "stderr",
     "output_type": "stream",
     "text": [
      "Creating network \"swarm-single-machine_default\" with the default driver\n",
      "Creating swarm-single-machine_clef-1_1 ... \n",
      "\u001b[1Bting swarm-single-machine_clef-1_1 ... \u001b[32mdone\u001b[0mCreating swarm-single-machine_bee-1_1  ... \n",
      "\u001b[1Bting swarm-single-machine_bee-1_1  ... \u001b[32mdone\u001b[0m"
     ]
    },
    {
     "name": "stdout",
     "output_type": "stream",
     "text": [
      "==== 06/20 : 152.32.189.174 ====\n",
      "swarm-06\n"
     ]
    },
    {
     "name": "stderr",
     "output_type": "stream",
     "text": [
      "From https://github.com/renning22/swarm-single-machine\n",
      "   c35989c..d6357ae  master     -> origin/master\n"
     ]
    },
    {
     "name": "stdout",
     "output_type": "stream",
     "text": [
      "Updating c35989c..d6357ae\n",
      "Fast-forward\n",
      " docker-compose.yml | 9 ++++-----\n",
      " 1 file changed, 4 insertions(+), 5 deletions(-)\n",
      "PUBLIC_IP=152.32.189.174\n",
      "BEE_NAT_ADDR=152.32.189.174:1634\n"
     ]
    },
    {
     "name": "stderr",
     "output_type": "stream",
     "text": [
      "Creating network \"swarm-single-machine_default\" with the default driver\n",
      "Creating swarm-single-machine_clef-1_1 ... \n",
      "\u001b[1Bting swarm-single-machine_clef-1_1 ... \u001b[32mdone\u001b[0mCreating swarm-single-machine_bee-1_1  ... \n",
      "\u001b[1Bting swarm-single-machine_bee-1_1  ... \u001b[32mdone\u001b[0m"
     ]
    },
    {
     "name": "stdout",
     "output_type": "stream",
     "text": [
      "==== 07/20 : 36.255.220.243 ====\n",
      "swarm-07\n"
     ]
    },
    {
     "name": "stderr",
     "output_type": "stream",
     "text": [
      "From https://github.com/renning22/swarm-single-machine\n",
      "   c35989c..d6357ae  master     -> origin/master\n"
     ]
    },
    {
     "name": "stdout",
     "output_type": "stream",
     "text": [
      "Updating c35989c..d6357ae\n",
      "Fast-forward\n",
      " docker-compose.yml | 9 ++++-----\n",
      " 1 file changed, 4 insertions(+), 5 deletions(-)\n",
      "PUBLIC_IP=36.255.220.243\n",
      "BEE_NAT_ADDR=36.255.220.243:1634\n"
     ]
    },
    {
     "name": "stderr",
     "output_type": "stream",
     "text": [
      "Creating network \"swarm-single-machine_default\" with the default driver\n",
      "Creating swarm-single-machine_clef-1_1 ... \n",
      "\u001b[1BCreating swarm-single-machine_bee-1_1  ... mdone\u001b[0m\n",
      "\u001b[1Bting swarm-single-machine_bee-1_1  ... \u001b[32mdone\u001b[0m"
     ]
    },
    {
     "name": "stdout",
     "output_type": "stream",
     "text": [
      "==== 08/20 : 152.32.192.130 ====\n",
      "swarm-08\n"
     ]
    },
    {
     "name": "stderr",
     "output_type": "stream",
     "text": [
      "From https://github.com/renning22/swarm-single-machine\n",
      "   c35989c..d6357ae  master     -> origin/master\n"
     ]
    },
    {
     "name": "stdout",
     "output_type": "stream",
     "text": [
      "Updating c35989c..d6357ae\n",
      "Fast-forward\n",
      " docker-compose.yml | 9 ++++-----\n",
      " 1 file changed, 4 insertions(+), 5 deletions(-)\n",
      "PUBLIC_IP=152.32.192.130\n",
      "BEE_NAT_ADDR=152.32.192.130:1634\n"
     ]
    },
    {
     "name": "stderr",
     "output_type": "stream",
     "text": [
      "Creating network \"swarm-single-machine_default\" with the default driver\n",
      "Creating swarm-single-machine_clef-1_1 ... \n",
      "\u001b[1Bting swarm-single-machine_clef-1_1 ... \u001b[32mdone\u001b[0mCreating swarm-single-machine_bee-1_1  ... \n",
      "\u001b[1Bting swarm-single-machine_bee-1_1  ... \u001b[32mdone\u001b[0m"
     ]
    },
    {
     "name": "stdout",
     "output_type": "stream",
     "text": [
      "==== 09/20 : 101.36.117.63 ====\n",
      "swarm-09\n"
     ]
    },
    {
     "name": "stderr",
     "output_type": "stream",
     "text": [
      "From https://github.com/renning22/swarm-single-machine\n",
      "   c35989c..d6357ae  master     -> origin/master\n"
     ]
    },
    {
     "name": "stdout",
     "output_type": "stream",
     "text": [
      "Updating c35989c..d6357ae\n",
      "Fast-forward\n",
      " docker-compose.yml | 9 ++++-----\n",
      " 1 file changed, 4 insertions(+), 5 deletions(-)\n",
      "PUBLIC_IP=101.36.117.63\n",
      "BEE_NAT_ADDR=101.36.117.63:1634\n"
     ]
    },
    {
     "name": "stderr",
     "output_type": "stream",
     "text": [
      "Creating network \"swarm-single-machine_default\" with the default driver\n",
      "Creating swarm-single-machine_clef-1_1 ... \n",
      "\u001b[1Bting swarm-single-machine_clef-1_1 ... \u001b[32mdone\u001b[0mCreating swarm-single-machine_bee-1_1  ... \n",
      "\u001b[1Bting swarm-single-machine_bee-1_1  ... \u001b[32mdone\u001b[0m"
     ]
    },
    {
     "name": "stdout",
     "output_type": "stream",
     "text": [
      "==== 10/20 : 101.36.120.12 ====\n",
      "swarm-10\n"
     ]
    },
    {
     "name": "stderr",
     "output_type": "stream",
     "text": [
      "From https://github.com/renning22/swarm-single-machine\n",
      "   c35989c..d6357ae  master     -> origin/master\n"
     ]
    },
    {
     "name": "stdout",
     "output_type": "stream",
     "text": [
      "Updating c35989c..d6357ae\n",
      "Fast-forward\n",
      " docker-compose.yml | 9 ++++-----\n",
      " 1 file changed, 4 insertions(+), 5 deletions(-)\n",
      "PUBLIC_IP=101.36.120.12\n",
      "BEE_NAT_ADDR=101.36.120.12:1634\n"
     ]
    },
    {
     "name": "stderr",
     "output_type": "stream",
     "text": [
      "Creating network \"swarm-single-machine_default\" with the default driver\n",
      "Creating swarm-single-machine_clef-1_1 ... \n",
      "\u001b[1Bting swarm-single-machine_clef-1_1 ... \u001b[32mdone\u001b[0mCreating swarm-single-machine_bee-1_1  ... \n",
      "\u001b[1Bting swarm-single-machine_bee-1_1  ... \u001b[32mdone\u001b[0m"
     ]
    },
    {
     "name": "stdout",
     "output_type": "stream",
     "text": [
      "==== 11/20 : 101.36.122.83 ====\n",
      "swarm-11\n"
     ]
    },
    {
     "name": "stderr",
     "output_type": "stream",
     "text": [
      "From https://github.com/renning22/swarm-single-machine\n",
      "   c35989c..d6357ae  master     -> origin/master\n"
     ]
    },
    {
     "name": "stdout",
     "output_type": "stream",
     "text": [
      "Updating c35989c..d6357ae\n",
      "Fast-forward\n",
      " docker-compose.yml | 9 ++++-----\n",
      " 1 file changed, 4 insertions(+), 5 deletions(-)\n",
      "PUBLIC_IP=101.36.122.83\n",
      "BEE_NAT_ADDR=101.36.122.83:1634\n"
     ]
    },
    {
     "name": "stderr",
     "output_type": "stream",
     "text": [
      "Creating network \"swarm-single-machine_default\" with the default driver\n",
      "Creating swarm-single-machine_clef-1_1 ... \n",
      "\u001b[1Bting swarm-single-machine_clef-1_1 ... \u001b[32mdone\u001b[0mCreating swarm-single-machine_bee-1_1  ... \n",
      "\u001b[1Bting swarm-single-machine_bee-1_1  ... \u001b[32mdone\u001b[0m"
     ]
    },
    {
     "name": "stdout",
     "output_type": "stream",
     "text": [
      "==== 12/20 : 152.32.215.147 ====\n",
      "swarm-12\n"
     ]
    },
    {
     "name": "stderr",
     "output_type": "stream",
     "text": [
      "From https://github.com/renning22/swarm-single-machine\n",
      "   c35989c..d6357ae  master     -> origin/master\n"
     ]
    },
    {
     "name": "stdout",
     "output_type": "stream",
     "text": [
      "Updating c35989c..d6357ae\n",
      "Fast-forward\n",
      " docker-compose.yml | 9 ++++-----\n",
      " 1 file changed, 4 insertions(+), 5 deletions(-)\n",
      "PUBLIC_IP=152.32.215.147\n",
      "BEE_NAT_ADDR=152.32.215.147:1634\n"
     ]
    },
    {
     "name": "stderr",
     "output_type": "stream",
     "text": [
      "Creating network \"swarm-single-machine_default\" with the default driver\n",
      "Creating swarm-single-machine_clef-1_1 ... \n",
      "\u001b[1Bting swarm-single-machine_clef-1_1 ... \u001b[32mdone\u001b[0mCreating swarm-single-machine_bee-1_1  ... \n",
      "\u001b[1Bting swarm-single-machine_bee-1_1  ... \u001b[32mdone\u001b[0m"
     ]
    },
    {
     "name": "stdout",
     "output_type": "stream",
     "text": [
      "==== 13/20 : 152.32.251.236 ====\n",
      "swarm-13\n"
     ]
    },
    {
     "name": "stderr",
     "output_type": "stream",
     "text": [
      "From https://github.com/renning22/swarm-single-machine\n",
      "   c35989c..d6357ae  master     -> origin/master\n"
     ]
    },
    {
     "name": "stdout",
     "output_type": "stream",
     "text": [
      "Updating c35989c..d6357ae\n",
      "Fast-forward\n",
      " docker-compose.yml | 9 ++++-----\n",
      " 1 file changed, 4 insertions(+), 5 deletions(-)\n",
      "PUBLIC_IP=152.32.251.236\n",
      "BEE_NAT_ADDR=152.32.251.236:1634\n"
     ]
    },
    {
     "name": "stderr",
     "output_type": "stream",
     "text": [
      "Creating network \"swarm-single-machine_default\" with the default driver\n",
      "Creating swarm-single-machine_clef-1_1 ... \n",
      "\u001b[1Bting swarm-single-machine_clef-1_1 ... \u001b[32mdone\u001b[0mCreating swarm-single-machine_bee-1_1  ... \n",
      "\u001b[1Bting swarm-single-machine_bee-1_1  ... \u001b[32mdone\u001b[0m"
     ]
    },
    {
     "name": "stdout",
     "output_type": "stream",
     "text": [
      "==== 14/20 : 152.32.190.173 ====\n",
      "10-7-155-240\n"
     ]
    },
    {
     "name": "stderr",
     "output_type": "stream",
     "text": [
      "From https://github.com/renning22/swarm-single-machine\n",
      "   c35989c..d6357ae  master     -> origin/master\n"
     ]
    },
    {
     "name": "stdout",
     "output_type": "stream",
     "text": [
      "Updating c35989c..d6357ae\n",
      "Fast-forward\n",
      " docker-compose.yml | 9 ++++-----\n",
      " 1 file changed, 4 insertions(+), 5 deletions(-)\n",
      "PUBLIC_IP=152.32.190.173\n",
      "BEE_NAT_ADDR=152.32.190.173:1634\n"
     ]
    },
    {
     "name": "stderr",
     "output_type": "stream",
     "text": [
      "Creating network \"swarm-single-machine_default\" with the default driver\n",
      "Creating swarm-single-machine_clef-1_1 ... \n",
      "\u001b[1Bting swarm-single-machine_clef-1_1 ... \u001b[32mdone\u001b[0mCreating swarm-single-machine_bee-1_1  ... \n",
      "\u001b[1Bting swarm-single-machine_bee-1_1  ... \u001b[32mdone\u001b[0m"
     ]
    },
    {
     "name": "stdout",
     "output_type": "stream",
     "text": [
      "==== 15/20 : 23.91.101.163 ====\n",
      "10-7-36-8\n"
     ]
    },
    {
     "name": "stderr",
     "output_type": "stream",
     "text": [
      "From https://github.com/renning22/swarm-single-machine\n",
      "   c35989c..d6357ae  master     -> origin/master\n"
     ]
    },
    {
     "name": "stdout",
     "output_type": "stream",
     "text": [
      "Updating c35989c..d6357ae\n",
      "Fast-forward\n",
      " docker-compose.yml | 9 ++++-----\n",
      " 1 file changed, 4 insertions(+), 5 deletions(-)\n",
      "PUBLIC_IP=23.91.101.163\n",
      "BEE_NAT_ADDR=23.91.101.163:1634\n"
     ]
    },
    {
     "name": "stderr",
     "output_type": "stream",
     "text": [
      "Creating network \"swarm-single-machine_default\" with the default driver\n",
      "Creating swarm-single-machine_clef-1_1 ... \n",
      "\u001b[1Bting swarm-single-machine_clef-1_1 ... \u001b[32mdone\u001b[0mCreating swarm-single-machine_bee-1_1  ... \n",
      "\u001b[1Bting swarm-single-machine_bee-1_1  ... \u001b[32mdone\u001b[0m"
     ]
    },
    {
     "name": "stdout",
     "output_type": "stream",
     "text": [
      "==== 16/20 : 118.193.39.223 ====\n",
      "10-7-70-72\n"
     ]
    },
    {
     "name": "stderr",
     "output_type": "stream",
     "text": [
      "From https://github.com/renning22/swarm-single-machine\n",
      "   c35989c..d6357ae  master     -> origin/master\n"
     ]
    },
    {
     "name": "stdout",
     "output_type": "stream",
     "text": [
      "Updating c35989c..d6357ae\n",
      "Fast-forward\n",
      " docker-compose.yml | 9 ++++-----\n",
      " 1 file changed, 4 insertions(+), 5 deletions(-)\n",
      "PUBLIC_IP=118.193.39.223\n",
      "BEE_NAT_ADDR=118.193.39.223:1634\n"
     ]
    },
    {
     "name": "stderr",
     "output_type": "stream",
     "text": [
      "Creating network \"swarm-single-machine_default\" with the default driver\n",
      "Creating swarm-single-machine_clef-1_1 ... \n",
      "\u001b[1Bting swarm-single-machine_clef-1_1 ... \u001b[32mdone\u001b[0mCreating swarm-single-machine_bee-1_1  ... \n",
      "\u001b[1Bting swarm-single-machine_bee-1_1  ... \u001b[32mdone\u001b[0m"
     ]
    },
    {
     "name": "stdout",
     "output_type": "stream",
     "text": [
      "==== 17/20 : 165.154.3.36 ====\n",
      "10-7-166-180\n"
     ]
    },
    {
     "name": "stderr",
     "output_type": "stream",
     "text": [
      "From https://github.com/renning22/swarm-single-machine\n",
      "   c35989c..d6357ae  master     -> origin/master\n"
     ]
    },
    {
     "name": "stdout",
     "output_type": "stream",
     "text": [
      "Updating c35989c..d6357ae\n",
      "Fast-forward\n",
      " docker-compose.yml | 9 ++++-----\n",
      " 1 file changed, 4 insertions(+), 5 deletions(-)\n",
      "PUBLIC_IP=165.154.3.36\n",
      "BEE_NAT_ADDR=165.154.3.36:1634\n"
     ]
    },
    {
     "name": "stderr",
     "output_type": "stream",
     "text": [
      "Creating network \"swarm-single-machine_default\" with the default driver\n",
      "Creating swarm-single-machine_clef-1_1 ... \n",
      "\u001b[1Bting swarm-single-machine_clef-1_1 ... \u001b[32mdone\u001b[0mCreating swarm-single-machine_bee-1_1  ... \n",
      "\u001b[1Bting swarm-single-machine_bee-1_1  ... \u001b[32mdone\u001b[0m"
     ]
    },
    {
     "name": "stdout",
     "output_type": "stream",
     "text": [
      "==== 18/20 : 45.249.247.180 ====\n",
      "10-7-11-247\n"
     ]
    },
    {
     "name": "stderr",
     "output_type": "stream",
     "text": [
      "From https://github.com/renning22/swarm-single-machine\n",
      "   c35989c..d6357ae  master     -> origin/master\n"
     ]
    },
    {
     "name": "stdout",
     "output_type": "stream",
     "text": [
      "Updating c35989c..d6357ae\n",
      "Fast-forward\n",
      " docker-compose.yml | 9 ++++-----\n",
      " 1 file changed, 4 insertions(+), 5 deletions(-)\n",
      "PUBLIC_IP=45.249.247.180\n",
      "BEE_NAT_ADDR=45.249.247.180:1634\n"
     ]
    },
    {
     "name": "stderr",
     "output_type": "stream",
     "text": [
      "Creating network \"swarm-single-machine_default\" with the default driver\n",
      "Creating swarm-single-machine_clef-1_1 ... \n",
      "\u001b[1Bting swarm-single-machine_clef-1_1 ... \u001b[32mdone\u001b[0mCreating swarm-single-machine_bee-1_1  ... \n",
      "\u001b[1Bting swarm-single-machine_bee-1_1  ... \u001b[32mdone\u001b[0m"
     ]
    },
    {
     "name": "stdout",
     "output_type": "stream",
     "text": [
      "==== 19/20 : 152.32.210.173 ====\n",
      "10-7-68-151\n"
     ]
    },
    {
     "name": "stderr",
     "output_type": "stream",
     "text": [
      "From https://github.com/renning22/swarm-single-machine\n",
      "   c35989c..d6357ae  master     -> origin/master\n",
      "error: Your local changes to the following files would be overwritten by merge:\n",
      "\t.env\n",
      "Please commit your changes or stash them before you merge.\n",
      "Aborting\n"
     ]
    },
    {
     "name": "stdout",
     "output_type": "stream",
     "text": [
      "Updating 9526bbb..d6357ae\n"
     ]
    },
    {
     "ename": "UnexpectedExit",
     "evalue": "Encountered a bad command exit code!\n\nCommand: 'cd swarm-single-machine && git pull'\n\nExit code: 1\n\nStdout: already printed\n\nStderr: already printed\n\n",
     "output_type": "error",
     "traceback": [
      "\u001b[0;31m---------------------------------------------------------------------------\u001b[0m",
      "\u001b[0;31mUnexpectedExit\u001b[0m                            Traceback (most recent call last)",
      "\u001b[0;32m<ipython-input-14-5faaf4a0a800>\u001b[0m in \u001b[0;36m<module>\u001b[0;34m\u001b[0m\n\u001b[1;32m      5\u001b[0m     \u001b[0mconn\u001b[0m \u001b[0;34m=\u001b[0m \u001b[0mConnection\u001b[0m\u001b[0;34m(\u001b[0m\u001b[0;34mf'ubuntu@{host}'\u001b[0m\u001b[0;34m)\u001b[0m\u001b[0;34m\u001b[0m\u001b[0;34m\u001b[0m\u001b[0m\n\u001b[1;32m      6\u001b[0m     \u001b[0mconn\u001b[0m\u001b[0;34m.\u001b[0m\u001b[0mrun\u001b[0m\u001b[0;34m(\u001b[0m\u001b[0;34m'hostname'\u001b[0m\u001b[0;34m)\u001b[0m\u001b[0;34m\u001b[0m\u001b[0;34m\u001b[0m\u001b[0m\n\u001b[0;32m----> 7\u001b[0;31m     \u001b[0mconn\u001b[0m\u001b[0;34m.\u001b[0m\u001b[0mrun\u001b[0m\u001b[0;34m(\u001b[0m\u001b[0;34m'cd swarm-single-machine && git pull'\u001b[0m\u001b[0;34m)\u001b[0m\u001b[0;34m\u001b[0m\u001b[0;34m\u001b[0m\u001b[0m\n\u001b[0m\u001b[1;32m      8\u001b[0m     \u001b[0mconn\u001b[0m\u001b[0;34m.\u001b[0m\u001b[0mrun\u001b[0m\u001b[0;34m(\u001b[0m\u001b[0;34m\"cd swarm-single-machine && ./up.sh\"\u001b[0m\u001b[0;34m)\u001b[0m\u001b[0;34m\u001b[0m\u001b[0;34m\u001b[0m\u001b[0m\n",
      "\u001b[0;32m<decorator-gen-3>\u001b[0m in \u001b[0;36mrun\u001b[0;34m(self, command, **kwargs)\u001b[0m\n",
      "\u001b[0;32m~/anaconda3/lib/python3.8/site-packages/fabric/connection.py\u001b[0m in \u001b[0;36mopens\u001b[0;34m(method, self, *args, **kwargs)\u001b[0m\n\u001b[1;32m     28\u001b[0m \u001b[0;32mdef\u001b[0m \u001b[0mopens\u001b[0m\u001b[0;34m(\u001b[0m\u001b[0mmethod\u001b[0m\u001b[0;34m,\u001b[0m \u001b[0mself\u001b[0m\u001b[0;34m,\u001b[0m \u001b[0;34m*\u001b[0m\u001b[0margs\u001b[0m\u001b[0;34m,\u001b[0m \u001b[0;34m**\u001b[0m\u001b[0mkwargs\u001b[0m\u001b[0;34m)\u001b[0m\u001b[0;34m:\u001b[0m\u001b[0;34m\u001b[0m\u001b[0;34m\u001b[0m\u001b[0m\n\u001b[1;32m     29\u001b[0m     \u001b[0mself\u001b[0m\u001b[0;34m.\u001b[0m\u001b[0mopen\u001b[0m\u001b[0;34m(\u001b[0m\u001b[0;34m)\u001b[0m\u001b[0;34m\u001b[0m\u001b[0;34m\u001b[0m\u001b[0m\n\u001b[0;32m---> 30\u001b[0;31m     \u001b[0;32mreturn\u001b[0m \u001b[0mmethod\u001b[0m\u001b[0;34m(\u001b[0m\u001b[0mself\u001b[0m\u001b[0;34m,\u001b[0m \u001b[0;34m*\u001b[0m\u001b[0margs\u001b[0m\u001b[0;34m,\u001b[0m \u001b[0;34m**\u001b[0m\u001b[0mkwargs\u001b[0m\u001b[0;34m)\u001b[0m\u001b[0;34m\u001b[0m\u001b[0;34m\u001b[0m\u001b[0m\n\u001b[0m\u001b[1;32m     31\u001b[0m \u001b[0;34m\u001b[0m\u001b[0m\n\u001b[1;32m     32\u001b[0m \u001b[0;34m\u001b[0m\u001b[0m\n",
      "\u001b[0;32m~/anaconda3/lib/python3.8/site-packages/fabric/connection.py\u001b[0m in \u001b[0;36mrun\u001b[0;34m(self, command, **kwargs)\u001b[0m\n\u001b[1;32m    721\u001b[0m         \u001b[0;34m.\u001b[0m\u001b[0;34m.\u001b[0m \u001b[0mversionadded\u001b[0m\u001b[0;34m:\u001b[0m\u001b[0;34m:\u001b[0m \u001b[0;36m2.0\u001b[0m\u001b[0;34m\u001b[0m\u001b[0;34m\u001b[0m\u001b[0m\n\u001b[1;32m    722\u001b[0m         \"\"\"\n\u001b[0;32m--> 723\u001b[0;31m         \u001b[0;32mreturn\u001b[0m \u001b[0mself\u001b[0m\u001b[0;34m.\u001b[0m\u001b[0m_run\u001b[0m\u001b[0;34m(\u001b[0m\u001b[0mself\u001b[0m\u001b[0;34m.\u001b[0m\u001b[0m_remote_runner\u001b[0m\u001b[0;34m(\u001b[0m\u001b[0;34m)\u001b[0m\u001b[0;34m,\u001b[0m \u001b[0mcommand\u001b[0m\u001b[0;34m,\u001b[0m \u001b[0;34m**\u001b[0m\u001b[0mkwargs\u001b[0m\u001b[0;34m)\u001b[0m\u001b[0;34m\u001b[0m\u001b[0;34m\u001b[0m\u001b[0m\n\u001b[0m\u001b[1;32m    724\u001b[0m \u001b[0;34m\u001b[0m\u001b[0m\n\u001b[1;32m    725\u001b[0m     \u001b[0;34m@\u001b[0m\u001b[0mopens\u001b[0m\u001b[0;34m\u001b[0m\u001b[0;34m\u001b[0m\u001b[0m\n",
      "\u001b[0;32m~/anaconda3/lib/python3.8/site-packages/invoke/context.py\u001b[0m in \u001b[0;36m_run\u001b[0;34m(self, runner, command, **kwargs)\u001b[0m\n\u001b[1;32m    100\u001b[0m     \u001b[0;32mdef\u001b[0m \u001b[0m_run\u001b[0m\u001b[0;34m(\u001b[0m\u001b[0mself\u001b[0m\u001b[0;34m,\u001b[0m \u001b[0mrunner\u001b[0m\u001b[0;34m,\u001b[0m \u001b[0mcommand\u001b[0m\u001b[0;34m,\u001b[0m \u001b[0;34m**\u001b[0m\u001b[0mkwargs\u001b[0m\u001b[0;34m)\u001b[0m\u001b[0;34m:\u001b[0m\u001b[0;34m\u001b[0m\u001b[0;34m\u001b[0m\u001b[0m\n\u001b[1;32m    101\u001b[0m         \u001b[0mcommand\u001b[0m \u001b[0;34m=\u001b[0m \u001b[0mself\u001b[0m\u001b[0;34m.\u001b[0m\u001b[0m_prefix_commands\u001b[0m\u001b[0;34m(\u001b[0m\u001b[0mcommand\u001b[0m\u001b[0;34m)\u001b[0m\u001b[0;34m\u001b[0m\u001b[0;34m\u001b[0m\u001b[0m\n\u001b[0;32m--> 102\u001b[0;31m         \u001b[0;32mreturn\u001b[0m \u001b[0mrunner\u001b[0m\u001b[0;34m.\u001b[0m\u001b[0mrun\u001b[0m\u001b[0;34m(\u001b[0m\u001b[0mcommand\u001b[0m\u001b[0;34m,\u001b[0m \u001b[0;34m**\u001b[0m\u001b[0mkwargs\u001b[0m\u001b[0;34m)\u001b[0m\u001b[0;34m\u001b[0m\u001b[0;34m\u001b[0m\u001b[0m\n\u001b[0m\u001b[1;32m    103\u001b[0m \u001b[0;34m\u001b[0m\u001b[0m\n\u001b[1;32m    104\u001b[0m     \u001b[0;32mdef\u001b[0m \u001b[0msudo\u001b[0m\u001b[0;34m(\u001b[0m\u001b[0mself\u001b[0m\u001b[0;34m,\u001b[0m \u001b[0mcommand\u001b[0m\u001b[0;34m,\u001b[0m \u001b[0;34m**\u001b[0m\u001b[0mkwargs\u001b[0m\u001b[0;34m)\u001b[0m\u001b[0;34m:\u001b[0m\u001b[0;34m\u001b[0m\u001b[0;34m\u001b[0m\u001b[0m\n",
      "\u001b[0;32m~/anaconda3/lib/python3.8/site-packages/invoke/runners.py\u001b[0m in \u001b[0;36mrun\u001b[0;34m(self, command, **kwargs)\u001b[0m\n\u001b[1;32m    361\u001b[0m         \"\"\"\n\u001b[1;32m    362\u001b[0m         \u001b[0;32mtry\u001b[0m\u001b[0;34m:\u001b[0m\u001b[0;34m\u001b[0m\u001b[0;34m\u001b[0m\u001b[0m\n\u001b[0;32m--> 363\u001b[0;31m             \u001b[0;32mreturn\u001b[0m \u001b[0mself\u001b[0m\u001b[0;34m.\u001b[0m\u001b[0m_run_body\u001b[0m\u001b[0;34m(\u001b[0m\u001b[0mcommand\u001b[0m\u001b[0;34m,\u001b[0m \u001b[0;34m**\u001b[0m\u001b[0mkwargs\u001b[0m\u001b[0;34m)\u001b[0m\u001b[0;34m\u001b[0m\u001b[0;34m\u001b[0m\u001b[0m\n\u001b[0m\u001b[1;32m    364\u001b[0m         \u001b[0;32mfinally\u001b[0m\u001b[0;34m:\u001b[0m\u001b[0;34m\u001b[0m\u001b[0;34m\u001b[0m\u001b[0m\n\u001b[1;32m    365\u001b[0m             \u001b[0;32mif\u001b[0m \u001b[0;32mnot\u001b[0m \u001b[0;34m(\u001b[0m\u001b[0mself\u001b[0m\u001b[0;34m.\u001b[0m\u001b[0m_asynchronous\u001b[0m \u001b[0;32mor\u001b[0m \u001b[0mself\u001b[0m\u001b[0;34m.\u001b[0m\u001b[0m_disowned\u001b[0m\u001b[0;34m)\u001b[0m\u001b[0;34m:\u001b[0m\u001b[0;34m\u001b[0m\u001b[0;34m\u001b[0m\u001b[0m\n",
      "\u001b[0;32m~/anaconda3/lib/python3.8/site-packages/invoke/runners.py\u001b[0m in \u001b[0;36m_run_body\u001b[0;34m(self, command, **kwargs)\u001b[0m\n\u001b[1;32m    420\u001b[0m             \u001b[0mthread\u001b[0m\u001b[0;34m.\u001b[0m\u001b[0mstart\u001b[0m\u001b[0;34m(\u001b[0m\u001b[0;34m)\u001b[0m\u001b[0;34m\u001b[0m\u001b[0;34m\u001b[0m\u001b[0m\n\u001b[1;32m    421\u001b[0m         \u001b[0;31m# Wrap up or promise that we will, depending\u001b[0m\u001b[0;34m\u001b[0m\u001b[0;34m\u001b[0m\u001b[0;34m\u001b[0m\u001b[0m\n\u001b[0;32m--> 422\u001b[0;31m         \u001b[0;32mreturn\u001b[0m \u001b[0mself\u001b[0m\u001b[0;34m.\u001b[0m\u001b[0mmake_promise\u001b[0m\u001b[0;34m(\u001b[0m\u001b[0;34m)\u001b[0m \u001b[0;32mif\u001b[0m \u001b[0mself\u001b[0m\u001b[0;34m.\u001b[0m\u001b[0m_asynchronous\u001b[0m \u001b[0;32melse\u001b[0m \u001b[0mself\u001b[0m\u001b[0;34m.\u001b[0m\u001b[0m_finish\u001b[0m\u001b[0;34m(\u001b[0m\u001b[0;34m)\u001b[0m\u001b[0;34m\u001b[0m\u001b[0;34m\u001b[0m\u001b[0m\n\u001b[0m\u001b[1;32m    423\u001b[0m \u001b[0;34m\u001b[0m\u001b[0m\n\u001b[1;32m    424\u001b[0m     \u001b[0;32mdef\u001b[0m \u001b[0mmake_promise\u001b[0m\u001b[0;34m(\u001b[0m\u001b[0mself\u001b[0m\u001b[0;34m)\u001b[0m\u001b[0;34m:\u001b[0m\u001b[0;34m\u001b[0m\u001b[0;34m\u001b[0m\u001b[0m\n",
      "\u001b[0;32m~/anaconda3/lib/python3.8/site-packages/invoke/runners.py\u001b[0m in \u001b[0;36m_finish\u001b[0;34m(self)\u001b[0m\n\u001b[1;32m    487\u001b[0m             \u001b[0;32mraise\u001b[0m \u001b[0mCommandTimedOut\u001b[0m\u001b[0;34m(\u001b[0m\u001b[0mresult\u001b[0m\u001b[0;34m,\u001b[0m \u001b[0mtimeout\u001b[0m\u001b[0;34m=\u001b[0m\u001b[0mtimeout\u001b[0m\u001b[0;34m)\u001b[0m\u001b[0;34m\u001b[0m\u001b[0;34m\u001b[0m\u001b[0m\n\u001b[1;32m    488\u001b[0m         \u001b[0;32mif\u001b[0m \u001b[0;32mnot\u001b[0m \u001b[0;34m(\u001b[0m\u001b[0mresult\u001b[0m \u001b[0;32mor\u001b[0m \u001b[0mself\u001b[0m\u001b[0;34m.\u001b[0m\u001b[0mopts\u001b[0m\u001b[0;34m[\u001b[0m\u001b[0;34m\"warn\"\u001b[0m\u001b[0;34m]\u001b[0m\u001b[0;34m)\u001b[0m\u001b[0;34m:\u001b[0m\u001b[0;34m\u001b[0m\u001b[0;34m\u001b[0m\u001b[0m\n\u001b[0;32m--> 489\u001b[0;31m             \u001b[0;32mraise\u001b[0m \u001b[0mUnexpectedExit\u001b[0m\u001b[0;34m(\u001b[0m\u001b[0mresult\u001b[0m\u001b[0;34m)\u001b[0m\u001b[0;34m\u001b[0m\u001b[0;34m\u001b[0m\u001b[0m\n\u001b[0m\u001b[1;32m    490\u001b[0m         \u001b[0;32mreturn\u001b[0m \u001b[0mresult\u001b[0m\u001b[0;34m\u001b[0m\u001b[0;34m\u001b[0m\u001b[0m\n\u001b[1;32m    491\u001b[0m \u001b[0;34m\u001b[0m\u001b[0m\n",
      "\u001b[0;31mUnexpectedExit\u001b[0m: Encountered a bad command exit code!\n\nCommand: 'cd swarm-single-machine && git pull'\n\nExit code: 1\n\nStdout: already printed\n\nStderr: already printed\n\n"
     ]
    }
   ],
   "source": [
    "# All up\n",
    "\n",
    "for i, host in enumerate(hosts):\n",
    "    print(f'==== {i:02}/{len(hosts):02} : {host} ====')\n",
    "    conn = Connection(f'ubuntu@{host}')\n",
    "    conn.run('hostname')\n",
    "    conn.run('cd swarm-single-machine && git pull')\n",
    "    conn.run(\"cd swarm-single-machine && ./up.sh\")"
   ]
  },
  {
   "cell_type": "code",
   "execution_count": null,
   "metadata": {},
   "outputs": [],
   "source": [
    "# Rename hostname\n",
    "\n",
    "sudopass = Responder(\n",
    "    pattern=r'Password:',\n",
    "    response='[please change]\\n')\n",
    "\n",
    "for i, host in enumerate(hosts):\n",
    "    print(f'==== {i:02}/{len(hosts):02} : {host} ====')\n",
    "    conn = Connection(f'ubuntu@{host}')\n",
    "    conn.run('hostname')\n",
    "    conn.run(f'hostnamectl set-hostname swarm-{i:02}', pty=True, watchers=[sudopass])\n",
    "    conn.run('hostnamectl')\n",
    "    print()"
   ]
  },
  {
   "cell_type": "code",
   "execution_count": null,
   "metadata": {},
   "outputs": [],
   "source": [
    "# Add self hostname to /etc/hosts\n",
    "# (to solve sudo error)\n",
    "\n",
    "for i, host in enumerate(hosts):\n",
    "    print(f'==== {i:02}/{len(hosts):02} : {host} ====')\n",
    "    conn = Connection(f'ubuntu@{host}')\n",
    "    conn.run('hostname')\n",
    "    conn.run('echo $(hostname -I | cut -d\\  -f1) $(hostname) | sudo tee -a /etc/hosts')\n",
    "    conn.run('cat /etc/hosts')"
   ]
  },
  {
   "cell_type": "code",
   "execution_count": null,
   "metadata": {},
   "outputs": [],
   "source": [
    "# All addresses\n",
    "\n",
    "for i, host in enumerate(hosts):\n",
    "    print(f'==== {i:02}/{len(hosts):02} : {host} ====')\n",
    "    conn = Connection(f'ubuntu@{host}')\n",
    "    conn.run('hostname')\n",
    "    conn.run('cd swarm-single-machine && ./addresses.sh')"
   ]
  },
  {
   "cell_type": "code",
   "execution_count": null,
   "metadata": {},
   "outputs": [],
   "source": [
    "# Print all eth addresses\n",
    "\n",
    "for _, host in enumerate(hosts):\n",
    "    conn = Connection(f'ubuntu@{host}')\n",
    "    result = conn.run('cd swarm-single-machine && ./addresses.sh', hide=True)\n",
    "    payload = json.loads(result.stdout.strip())\n",
    "    print(payload['ethereum'])"
   ]
  },
  {
   "cell_type": "code",
   "execution_count": null,
   "metadata": {
    "scrolled": false
   },
   "outputs": [],
   "source": [
    "# Try to init all\n",
    "\n",
    "for i, host in enumerate(hosts):\n",
    "    print(f'==== {i:02}/{len(hosts):02} : {host} ====')\n",
    "    conn = Connection(f'ubuntu@{host}')\n",
    "    conn.run('hostname')\n",
    "    try:\n",
    "        conn.run('git clone https://github.com/renning22/swarm-single-machine.git && cd swarm-single-machine && ./init.sh')\n",
    "    except UnexpectedExit:\n",
    "        print('Skip...')"
   ]
  },
  {
   "cell_type": "code",
   "execution_count": null,
   "metadata": {
    "scrolled": true
   },
   "outputs": [],
   "source": [
    "# Restart unhealthy\n",
    "\n",
    "for i, host in enumerate(hosts):\n",
    "    print(f'==== {i:02}/{len(hosts):02} : {host} ====')\n",
    "    conn = Connection(f'ubuntu@{host}')\n",
    "    conn.run('hostname')\n",
    "    result = conn.run(\"curl -s http://localhost:1635/peers | jq '.peers | length'\", hide=True)\n",
    "    print(f'peers = {result.stdout.strip()}')\n",
    "    if not result.stdout.strip():\n",
    "        print('Restarting...')\n",
    "        conn.run('cd swarm-single-machine && ./restart.sh')"
   ]
  },
  {
   "cell_type": "code",
   "execution_count": 11,
   "metadata": {},
   "outputs": [
    {
     "name": "stdout",
     "output_type": "stream",
     "text": [
      "==== 00/20 : 118.193.45.223 ====\n",
      "\n",
      "10.7.17.210 swap-endpoint-01\n",
      "127.0.0.1\tlocalhost\n",
      "# The following lines are desirable for IPv6 capable hosts\n",
      "::1\tip6-localhost\tip6-loopback\n",
      "fe00::0\tip6-localnet\n",
      "ff00::0\tip6-mcastprefix\n",
      "ff02::1\tip6-allnodes\n",
      "ff02::2\tip6-allrouters\n",
      "\n",
      "127.0.1.1\t10-42-191-229\t10-42-191-229\n",
      "127.0.1.1\t10-7-93-143\t10-7-93-143\n",
      "\n",
      "10.7.93.143 swarm-00\n",
      "\n",
      "10.7.17.210 swap-endpoint-01\n",
      "==== 01/20 : 128.1.135.208 ====\n",
      "\n",
      "10.7.17.210 swap-endpoint-01\n",
      "127.0.0.1\tlocalhost\n",
      "# The following lines are desirable for IPv6 capable hosts\n",
      "::1\tip6-localhost\tip6-loopback\n",
      "fe00::0\tip6-localnet\n",
      "ff00::0\tip6-mcastprefix\n",
      "ff02::1\tip6-allnodes\n",
      "ff02::2\tip6-allrouters\n",
      "\n",
      "127.0.1.1\t10-42-191-229\t10-42-191-229\n",
      "127.0.1.1\t10-7-138-32\t10-7-138-32\n",
      "\n",
      "10.7.138.32 swarm-01\n",
      "\n",
      "10.7.17.210 swap-endpoint-01\n",
      "==== 02/20 : 103.14.34.147 ====\n",
      "\n",
      "10.7.17.210 swap-endpoint-01\n",
      "127.0.0.1\tlocalhost\n",
      "# The following lines are desirable for IPv6 capable hosts\n",
      "::1\tip6-localhost\tip6-loopback\n",
      "fe00::0\tip6-localnet\n",
      "ff00::0\tip6-mcastprefix\n",
      "ff02::1\tip6-allnodes\n",
      "ff02::2\tip6-allrouters\n",
      "\n",
      "127.0.1.1\t10-42-191-229\t10-42-191-229\n",
      "127.0.1.1\t10-7-2-135\t10-7-2-135\n",
      "\n",
      "10.7.2.135 swarm-02\n",
      "\n",
      "10.7.17.210 swap-endpoint-01\n",
      "==== 03/20 : 23.91.97.32 ====\n",
      "\n",
      "10.7.17.210 swap-endpoint-01\n",
      "127.0.0.1\tlocalhost\n",
      "# The following lines are desirable for IPv6 capable hosts\n",
      "::1\tip6-localhost\tip6-loopback\n",
      "fe00::0\tip6-localnet\n",
      "ff00::0\tip6-mcastprefix\n",
      "ff02::1\tip6-allnodes\n",
      "ff02::2\tip6-allrouters\n",
      "\n",
      "127.0.1.1\t10-42-191-229\t10-42-191-229\n",
      "127.0.1.1\t10-7-168-195\t10-7-168-195\n",
      "\n",
      "10.7.168.195 swarm-03\n",
      "\n",
      "10.7.17.210 swap-endpoint-01\n",
      "==== 04/20 : 152.32.210.117 ====\n",
      "\n",
      "10.7.17.210 swap-endpoint-01\n",
      "127.0.0.1\tlocalhost\n",
      "# The following lines are desirable for IPv6 capable hosts\n",
      "::1\tip6-localhost\tip6-loopback\n",
      "fe00::0\tip6-localnet\n",
      "ff00::0\tip6-mcastprefix\n",
      "ff02::1\tip6-allnodes\n",
      "ff02::2\tip6-allrouters\n",
      "\n",
      "127.0.1.1\t10-42-191-229\t10-42-191-229\n",
      "127.0.1.1\t10-7-70-178\t10-7-70-178\n",
      "\n",
      "10.7.70.178 swarm-04\n",
      "\n",
      "10.7.17.210 swap-endpoint-01\n",
      "==== 05/20 : 23.91.98.101 ====\n",
      "\n",
      "10.7.17.210 swap-endpoint-01\n",
      "127.0.0.1\tlocalhost\n",
      "# The following lines are desirable for IPv6 capable hosts\n",
      "::1\tip6-localhost\tip6-loopback\n",
      "fe00::0\tip6-localnet\n",
      "ff00::0\tip6-mcastprefix\n",
      "ff02::1\tip6-allnodes\n",
      "ff02::2\tip6-allrouters\n",
      "\n",
      "127.0.1.1\t10-42-191-229\t10-42-191-229\n",
      "127.0.1.1\t10-7-67-106\t10-7-67-106\n",
      "\n",
      "10.7.67.106 swarm-05\n",
      "\n",
      "10.7.17.210 swap-endpoint-01\n",
      "==== 06/20 : 152.32.189.174 ====\n",
      "\n",
      "10.7.17.210 swap-endpoint-01\n",
      "127.0.0.1\tlocalhost\n",
      "# The following lines are desirable for IPv6 capable hosts\n",
      "::1\tip6-localhost\tip6-loopback\n",
      "fe00::0\tip6-localnet\n",
      "ff00::0\tip6-mcastprefix\n",
      "ff02::1\tip6-allnodes\n",
      "ff02::2\tip6-allrouters\n",
      "\n",
      "127.0.1.1\t10-42-191-229\t10-42-191-229\n",
      "127.0.1.1\t10-7-153-88\t10-7-153-88\n",
      "\n",
      "10.7.153.88 swarm-06\n",
      "\n",
      "10.7.17.210 swap-endpoint-01\n",
      "==== 07/20 : 36.255.220.243 ====\n",
      "\n",
      "10.7.17.210 swap-endpoint-01\n",
      "127.0.0.1\tlocalhost\n",
      "# The following lines are desirable for IPv6 capable hosts\n",
      "::1\tip6-localhost\tip6-loopback\n",
      "fe00::0\tip6-localnet\n",
      "ff00::0\tip6-mcastprefix\n",
      "ff02::1\tip6-allnodes\n",
      "ff02::2\tip6-allrouters\n",
      "\n",
      "127.0.1.1\t10-42-191-229\t10-42-191-229\n",
      "127.0.1.1\t10-7-121-166\t10-7-121-166\n",
      "\n",
      "10.7.121.166 swarm-07\n",
      "\n",
      "10.7.17.210 swap-endpoint-01\n",
      "==== 08/20 : 152.32.192.130 ====\n",
      "\n",
      "10.7.17.210 swap-endpoint-01\n",
      "127.0.0.1\tlocalhost\n",
      "# The following lines are desirable for IPv6 capable hosts\n",
      "::1\tip6-localhost\tip6-loopback\n",
      "fe00::0\tip6-localnet\n",
      "ff00::0\tip6-mcastprefix\n",
      "ff02::1\tip6-allnodes\n",
      "ff02::2\tip6-allrouters\n",
      "\n",
      "127.0.1.1\t10-42-191-229\t10-42-191-229\n",
      "127.0.1.1\t10-7-88-80\t10-7-88-80\n",
      "\n",
      "10.7.88.80 swarm-08\n",
      "\n",
      "10.7.17.210 swap-endpoint-01\n",
      "==== 09/20 : 101.36.117.63 ====\n",
      "\n",
      "10.7.17.210 swap-endpoint-01\n",
      "127.0.0.1\tlocalhost\n",
      "# The following lines are desirable for IPv6 capable hosts\n",
      "::1\tip6-localhost\tip6-loopback\n",
      "fe00::0\tip6-localnet\n",
      "ff00::0\tip6-mcastprefix\n",
      "ff02::1\tip6-allnodes\n",
      "ff02::2\tip6-allrouters\n",
      "\n",
      "127.0.1.1\t10-42-191-229\t10-42-191-229\n",
      "127.0.1.1\t10-7-47-123\t10-7-47-123\n",
      "\n",
      "10.7.47.123 swarm-09\n",
      "\n",
      "10.7.17.210 swap-endpoint-01\n",
      "==== 10/20 : 101.36.120.12 ====\n",
      "\n",
      "10.7.17.210 swap-endpoint-01\n",
      "127.0.0.1\tlocalhost\n",
      "# The following lines are desirable for IPv6 capable hosts\n",
      "::1\tip6-localhost\tip6-loopback\n",
      "fe00::0\tip6-localnet\n",
      "ff00::0\tip6-mcastprefix\n",
      "ff02::1\tip6-allnodes\n",
      "ff02::2\tip6-allrouters\n",
      "\n",
      "127.0.1.1\t10-42-191-229\t10-42-191-229\n",
      "127.0.1.1\t10-7-11-164\t10-7-11-164\n",
      "\n",
      "10.7.11.164 swarm-10\n",
      "\n",
      "10.7.17.210 swap-endpoint-01\n",
      "==== 11/20 : 101.36.122.83 ====\n",
      "\n",
      "10.7.17.210 swap-endpoint-01\n",
      "127.0.0.1\tlocalhost\n",
      "# The following lines are desirable for IPv6 capable hosts\n",
      "::1\tip6-localhost\tip6-loopback\n",
      "fe00::0\tip6-localnet\n",
      "ff00::0\tip6-mcastprefix\n",
      "ff02::1\tip6-allnodes\n",
      "ff02::2\tip6-allrouters\n",
      "\n",
      "127.0.1.1\t10-42-191-229\t10-42-191-229\n",
      "127.0.1.1\t10-7-153-33\t10-7-153-33\n",
      "\n",
      "10.7.153.33 swarm-11\n",
      "\n",
      "10.7.17.210 swap-endpoint-01\n",
      "==== 12/20 : 152.32.215.147 ====\n",
      "\n",
      "10.7.17.210 swap-endpoint-01\n",
      "127.0.0.1\tlocalhost\n",
      "# The following lines are desirable for IPv6 capable hosts\n",
      "::1\tip6-localhost\tip6-loopback\n",
      "fe00::0\tip6-localnet\n",
      "ff00::0\tip6-mcastprefix\n",
      "ff02::1\tip6-allnodes\n",
      "ff02::2\tip6-allrouters\n",
      "\n",
      "127.0.1.1\t10-42-191-229\t10-42-191-229\n",
      "127.0.1.1\t10-7-139-189\t10-7-139-189\n",
      "\n",
      "10.7.139.189 swarm-12\n",
      "\n",
      "10.7.17.210 swap-endpoint-01\n",
      "==== 13/20 : 152.32.251.236 ====\n",
      "\n",
      "10.7.17.210 swap-endpoint-01\n",
      "127.0.0.1\tlocalhost\n",
      "# The following lines are desirable for IPv6 capable hosts\n",
      "::1\tip6-localhost\tip6-loopback\n",
      "fe00::0\tip6-localnet\n",
      "ff00::0\tip6-mcastprefix\n",
      "ff02::1\tip6-allnodes\n",
      "ff02::2\tip6-allrouters\n",
      "\n",
      "127.0.1.1\t10-42-191-229\t10-42-191-229\n",
      "127.0.1.1\t10-7-133-225\t10-7-133-225\n",
      "\n",
      "10.7.133.225 swarm-13\n",
      "\n",
      "10.7.17.210 swap-endpoint-01\n",
      "==== 14/20 : 152.32.190.173 ====\n",
      "\n",
      "10.7.17.210 swap-endpoint-01\n",
      "127.0.0.1\tlocalhost\n",
      "# The following lines are desirable for IPv6 capable hosts\n",
      "::1\tip6-localhost\tip6-loopback\n",
      "fe00::0\tip6-localnet\n",
      "ff00::0\tip6-mcastprefix\n",
      "ff02::1\tip6-allnodes\n",
      "ff02::2\tip6-allrouters\n",
      "\n",
      "127.0.1.1\t10-42-191-229\t10-42-191-229\n",
      "127.0.1.1\t10-7-155-240\t10-7-155-240\n",
      "\n",
      "\n",
      "10.7.17.210 swap-endpoint-01\n",
      "==== 15/20 : 23.91.101.163 ====\n",
      "\n",
      "10.7.17.210 swap-endpoint-01\n",
      "127.0.0.1\tlocalhost\n",
      "# The following lines are desirable for IPv6 capable hosts\n",
      "::1\tip6-localhost\tip6-loopback\n",
      "fe00::0\tip6-localnet\n",
      "ff00::0\tip6-mcastprefix\n",
      "ff02::1\tip6-allnodes\n",
      "ff02::2\tip6-allrouters\n",
      "\n",
      "127.0.1.1\t10-42-191-229\t10-42-191-229\n",
      "127.0.1.1\t10-7-36-8\t10-7-36-8\n",
      "\n",
      "\n",
      "10.7.17.210 swap-endpoint-01\n",
      "==== 16/20 : 118.193.39.223 ====\n",
      "\n",
      "10.7.17.210 swap-endpoint-01\n",
      "127.0.0.1\tlocalhost\n",
      "# The following lines are desirable for IPv6 capable hosts\n",
      "::1\tip6-localhost\tip6-loopback\n",
      "fe00::0\tip6-localnet\n",
      "ff00::0\tip6-mcastprefix\n",
      "ff02::1\tip6-allnodes\n",
      "ff02::2\tip6-allrouters\n",
      "\n",
      "127.0.1.1\t10-42-191-229\t10-42-191-229\n",
      "127.0.1.1\t10-7-70-72\t10-7-70-72\n",
      "\n",
      "\n",
      "10.7.17.210 swap-endpoint-01\n",
      "==== 17/20 : 165.154.3.36 ====\n",
      "\n",
      "10.7.17.210 swap-endpoint-01\n",
      "127.0.0.1\tlocalhost\n",
      "# The following lines are desirable for IPv6 capable hosts\n",
      "::1\tip6-localhost\tip6-loopback\n",
      "fe00::0\tip6-localnet\n",
      "ff00::0\tip6-mcastprefix\n",
      "ff02::1\tip6-allnodes\n",
      "ff02::2\tip6-allrouters\n",
      "\n",
      "127.0.1.1\t10-42-191-229\t10-42-191-229\n",
      "127.0.1.1\t10-7-166-180\t10-7-166-180\n",
      "\n",
      "\n",
      "10.7.17.210 swap-endpoint-01\n",
      "==== 18/20 : 45.249.247.180 ====\n",
      "\n",
      "10.7.17.210 swap-endpoint-01\n",
      "127.0.0.1\tlocalhost\n",
      "# The following lines are desirable for IPv6 capable hosts\n",
      "::1\tip6-localhost\tip6-loopback\n",
      "fe00::0\tip6-localnet\n",
      "ff00::0\tip6-mcastprefix\n",
      "ff02::1\tip6-allnodes\n",
      "ff02::2\tip6-allrouters\n",
      "\n",
      "127.0.1.1\t10-42-191-229\t10-42-191-229\n",
      "127.0.1.1\t10-7-11-247\t10-7-11-247\n",
      "\n",
      "\n",
      "10.7.17.210 swap-endpoint-01\n",
      "==== 19/20 : 152.32.210.173 ====\n",
      "\n",
      "10.7.17.210 swap-endpoint-01\n",
      "127.0.0.1\tlocalhost\n",
      "# The following lines are desirable for IPv6 capable hosts\n",
      "::1\tip6-localhost\tip6-loopback\n",
      "fe00::0\tip6-localnet\n",
      "ff00::0\tip6-mcastprefix\n",
      "ff02::1\tip6-allnodes\n",
      "ff02::2\tip6-allrouters\n",
      "\n",
      "127.0.1.1\t10-42-191-229\t10-42-191-229\n",
      "127.0.1.1\t10-7-68-151\t10-7-68-151\n",
      "\n",
      "\n",
      "10.7.17.210 swap-endpoint-01\n"
     ]
    }
   ],
   "source": [
    "# Add swap-endpoint to hosts table (UCloud-HK-specific)\n",
    "for i, host in enumerate(hosts):\n",
    "    print(f'==== {i:02}/{len(hosts):02} : {host} ====')\n",
    "    conn = Connection(f'ubuntu@{host}')\n",
    "    conn.run('printf \"\\n10.7.17.210 swap-endpoint-01\\n\" | sudo tee -a /etc/hosts')\n",
    "    conn.run('cat /etc/hosts')"
   ]
  }
 ],
 "metadata": {
  "kernelspec": {
   "display_name": "Python 3",
   "language": "python",
   "name": "python3"
  },
  "language_info": {
   "codemirror_mode": {
    "name": "ipython",
    "version": 3
   },
   "file_extension": ".py",
   "mimetype": "text/x-python",
   "name": "python",
   "nbconvert_exporter": "python",
   "pygments_lexer": "ipython3",
   "version": "3.8.10"
  }
 },
 "nbformat": 4,
 "nbformat_minor": 2
}
