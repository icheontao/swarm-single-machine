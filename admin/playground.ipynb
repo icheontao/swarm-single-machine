{
 "cells": [
  {
   "cell_type": "code",
   "execution_count": 1,
   "metadata": {},
   "outputs": [
    {
     "data": {
      "text/plain": [
       "'3.8.10 (default, May 19 2021, 18:05:58) \\n[GCC 7.3.0]'"
      ]
     },
     "execution_count": 1,
     "metadata": {},
     "output_type": "execute_result"
    }
   ],
   "source": [
    "import sys\n",
    "from fabric import Connection\n",
    "from invoke import Responder\n",
    "\n",
    "sys.version"
   ]
  },
  {
   "cell_type": "code",
   "execution_count": 2,
   "metadata": {},
   "outputs": [
    {
     "name": "stdout",
     "output_type": "stream",
     "text": [
      "swarm-01\n"
     ]
    }
   ],
   "source": [
    "result = Connection('ubuntu@128.1.135.208').run('hostname', hide=False)"
   ]
  },
  {
   "cell_type": "code",
   "execution_count": 3,
   "metadata": {},
   "outputs": [
    {
     "data": {
      "text/plain": [
       "'swarm-01\\n'"
      ]
     },
     "execution_count": 3,
     "metadata": {},
     "output_type": "execute_result"
    }
   ],
   "source": [
    "result.stdout"
   ]
  },
  {
   "cell_type": "code",
   "execution_count": 4,
   "metadata": {},
   "outputs": [],
   "source": [
    "hosts = [\n",
    "    \"118.193.45.223\",\n",
    "    \"128.1.135.208\",\n",
    "    \"103.14.34.147\",\n",
    "    \"23.91.97.32\",\n",
    "    \"152.32.210.117\",\n",
    "    \"23.91.98.101\",\n",
    "    \"152.32.189.174\",\n",
    "    \"36.255.220.243\",\n",
    "    \"152.32.192.130\",\n",
    "    \"101.36.117.63\",\n",
    "    \"101.36.120.12\",\n",
    "    \"101.36.122.83\",\n",
    "    \"152.32.215.147\",\n",
    "    \"152.32.251.236\"\n",
    "]"
   ]
  },
  {
   "cell_type": "code",
   "execution_count": 5,
   "metadata": {},
   "outputs": [
    {
     "name": "stdout",
     "output_type": "stream",
     "text": [
      "==== 00/14 : 118.193.45.223 ====\n",
      "swarm-00\n",
      "peers = 186\n",
      "\n",
      "==== 01/14 : 128.1.135.208 ====\n",
      "swarm-01\n",
      "peers = 251\n",
      "\n",
      "==== 02/14 : 103.14.34.147 ====\n",
      "swarm-02\n",
      "peers = 232\n",
      "\n",
      "==== 03/14 : 23.91.97.32 ====\n",
      "swarm-03\n",
      "peers = 183\n",
      "\n",
      "==== 04/14 : 152.32.210.117 ====\n",
      "swarm-04\n",
      "peers = 219\n",
      "\n",
      "==== 05/14 : 23.91.98.101 ====\n",
      "swarm-05\n",
      "peers = 211\n",
      "\n",
      "==== 06/14 : 152.32.189.174 ====\n",
      "swarm-06\n",
      "peers = 195\n",
      "\n",
      "==== 07/14 : 36.255.220.243 ====\n",
      "swarm-07\n",
      "peers = 203\n",
      "\n",
      "==== 08/14 : 152.32.192.130 ====\n",
      "swarm-08\n",
      "peers = 180\n",
      "\n",
      "==== 09/14 : 101.36.117.63 ====\n",
      "swarm-09\n",
      "peers = \n",
      "\n",
      "==== 10/14 : 101.36.120.12 ====\n",
      "swarm-10\n",
      "peers = \n",
      "\n",
      "==== 11/14 : 101.36.122.83 ====\n",
      "swarm-11\n",
      "peers = \n",
      "\n",
      "==== 12/14 : 152.32.215.147 ====\n",
      "swarm-12\n",
      "peers = \n",
      "\n",
      "==== 13/14 : 152.32.251.236 ====\n",
      "swarm-13\n",
      "peers = \n",
      "\n"
     ]
    }
   ],
   "source": [
    "# Check status\n",
    "\n",
    "for i, host in enumerate(hosts):\n",
    "    print(f'==== {i:02}/{len(hosts):02} : {host} ====')\n",
    "    conn = Connection(f'ubuntu@{host}')\n",
    "    conn.run('hostname')\n",
    "    result = conn.run(\"curl -s http://localhost:1635/peers | jq '.peers | length'\", hide=True)\n",
    "    print(f'peers = {result.stdout.strip()}')\n",
    "    print()"
   ]
  },
  {
   "cell_type": "code",
   "execution_count": null,
   "metadata": {},
   "outputs": [],
   "source": [
    "# All\n",
    "for i, host in enumerate(hosts):\n",
    "    print(f'==== {i:02}/{len(hosts):02} : {host} ====')\n",
    "    conn = Connection(f'ubuntu@{host}')\n",
    "    conn.run('hostname')\n",
    "    conn.run(\"cd swarm-single-machine && ./down.sh\")"
   ]
  },
  {
   "cell_type": "code",
   "execution_count": null,
   "metadata": {},
   "outputs": [],
   "source": [
    "# All up\n",
    "for i, host in enumerate(hosts):\n",
    "    print(f'==== {i:02}/{len(hosts):02} : {host} ====')\n",
    "    conn = Connection(f'ubuntu@{host}')\n",
    "    conn.run('hostname')\n",
    "    conn.run('cd swarm-single-machine && git pull')\n",
    "    conn.run(\"cd swarm-single-machine && ./up.sh\")"
   ]
  },
  {
   "cell_type": "code",
   "execution_count": null,
   "metadata": {},
   "outputs": [],
   "source": [
    "# Rename hostname\n",
    "\n",
    "sudopass = Responder(\n",
    "    pattern=r'Password:',\n",
    "    response='[please change]\\n')\n",
    "\n",
    "for i, host in enumerate(hosts):\n",
    "    print(f'==== {i:02}/{len(hosts):02} : {host} ====')\n",
    "    conn = Connection(f'ubuntu@{host}')\n",
    "    conn.run('hostname')\n",
    "    conn.run(f'hostnamectl set-hostname swarm-{i:02}', pty=True, watchers=[sudopass])\n",
    "    conn.run('hostnamectl')\n",
    "    print()"
   ]
  }
 ],
 "metadata": {
  "kernelspec": {
   "display_name": "Python 3",
   "language": "python",
   "name": "python3"
  },
  "language_info": {
   "codemirror_mode": {
    "name": "ipython",
    "version": 3
   },
   "file_extension": ".py",
   "mimetype": "text/x-python",
   "name": "python",
   "nbconvert_exporter": "python",
   "pygments_lexer": "ipython3",
   "version": "3.8.10"
  }
 },
 "nbformat": 4,
 "nbformat_minor": 2
}
